{
 "cells": [
  {
   "cell_type": "code",
   "execution_count": 204,
   "metadata": {
    "deletable": false,
    "editable": false
   },
   "outputs": [],
   "source": [
    "# Initialize Otter\n",
    "import otter\n",
    "grader = otter.Notebook(\"projA2.ipynb\")"
   ]
  },
  {
   "cell_type": "markdown",
   "metadata": {
    "nbgrader": {
     "grade": false,
     "grade_id": "cell-e0f9b2de18190d9d",
     "locked": true,
     "schema_version": 1,
     "solution": false
    }
   },
   "source": [
    "# Project A.2: Predicting Housing Prices in Cook County\n",
    "\n",
    "## Due Date: Thursday, March 23rd, 11:59 PM\n",
    "\n",
    "You must submit this assignment to Gradescope by the on-time deadline, Thursday, March 23rd, 11:59 PM. Please read the syllabus for the grace period policy. No late submissions beyond the grace period will be accepted. While course staff is happy to help you if you encounter difficulties with submission, we may not be able to respond to last-minute requests for assistance (TAs need to sleep, after all!). **We strongly encourage you to plan to submit your work to Gradescope several hours before the stated deadline.** This way, you will have ample time to reach out to staff for submission support. \n",
    "\n",
    "## Collaboration Policy\n",
    "\n",
    "Data science is a collaborative activity. While you may talk with others about the project, we ask that you **write your solutions individually**. If you do discuss the assignments with others please **include their names** in the collaborators cell below."
   ]
  },
  {
   "cell_type": "markdown",
   "metadata": {},
   "source": [
    "**Collaborators:** *list names here*"
   ]
  },
  {
   "cell_type": "markdown",
   "metadata": {},
   "source": [
    "<br/><br/>\n",
    "<hr style=\"border: 5px solid #003262;\" />\n",
    "<hr style=\"border: 1px solid #fdb515;\" />\n",
    "\n",
    "## Question 00: Mid-semester survey\n",
    "\n",
    "Please fill out the mid-semester survey [here](https://forms.gle/NioqqTuxHGHi25dPA). We appreciate your feedback! Note: The public test only checks if you enter the password in the correct format."
   ]
  },
  {
   "cell_type": "code",
   "execution_count": 205,
   "metadata": {
    "tags": []
   },
   "outputs": [],
   "source": [
    "qsurvey = \"ogGM_pzr3ybW\""
   ]
  },
  {
   "cell_type": "code",
   "execution_count": 206,
   "metadata": {
    "deletable": false,
    "editable": false
   },
   "outputs": [
    {
     "data": {
      "text/html": [
       "<p><strong><pre style='display: inline;'>qsurvey</pre></strong> passed!</p>"
      ],
      "text/plain": [
       "qsurvey results: All test cases passed!"
      ]
     },
     "execution_count": 206,
     "metadata": {},
     "output_type": "execute_result"
    }
   ],
   "source": [
    "grader.check(\"qsurvey\")"
   ]
  },
  {
   "cell_type": "markdown",
   "metadata": {},
   "source": [
    "\n",
    "\n",
    "<hr style=\"border: 1px solid #fdb515;\" />\n",
    "<hr style=\"border: 5px solid #003262;\" />\n",
    "<br/><br/>"
   ]
  },
  {
   "cell_type": "markdown",
   "metadata": {},
   "source": [
    "## Introduction\n",
    "\n",
    "In project A.1, you performed some basic Exploratory Data Analysis (EDA), laying out the thought process that leads to certain modeling decisions. Then, you added a few new features to the dataset and cleaned the data in the process.\n",
    "\n",
    "In this project, you will specify and fit a linear model to a few features of the housing data to predict house prices. Next, we will analyze the error of the model and brainstorm ways to improve the model's performance. Finally, we'll delve deeper into the implications of predictive modeling within the Cook County Assessor's Office (CCAO) case study, especially because statistical modeling is how the CCAO valuates properties. Given the history of racial discrimination in housing policy and property taxation in Cook County, consider the impacts of your modeling results as you work through this project - and think about what fairness might mean to property owners in Cook County.\n",
    "\n",
    "After this part of the project, you should be comfortable with:\n",
    "- Implementing a data processing pipeline using `pandas`.\n",
    "- Using `scikit-learn` to build and fit linear models.\n",
    "\n",
    "## Score Breakdown\n",
    "\n",
    "Question | Manual | Points\n",
    "----|----|----\n",
    "00 | No| 2\n",
    "0a | Yes | 1\n",
    "0b | Yes | 1\n",
    "0c | No | 1\n",
    "0d | Yes | 1\n",
    "0e | Yes | 1\n",
    "1 | No | 2\n",
    "2a | Yes | 2\n",
    "2b | No | 3\n",
    "2c | No | 2\n",
    "3a | No | 2\n",
    "3b | Yes | 2\n",
    "3c | Yes | 2\n",
    "3d |  No | 1\n",
    "4a | No | 0\n",
    "4b | No | 0\n",
    "4c | No | 0\n",
    "4d | No | 0\n",
    "4e | No | 3\n",
    "Test Prediction | No | 3\n",
    "4f | No | 0\n",
    "4g | No | 0\n",
    "4h | No | 0\n",
    "5 | Yes | 2\n",
    "6a | Yes | 2\n",
    "6b | Yes | 1\n",
    "6c | Yes | 1\n",
    "Total | 11 | 35\n"
   ]
  },
  {
   "cell_type": "code",
   "execution_count": 207,
   "metadata": {
    "nbgrader": {
     "grade": false,
     "grade_id": "cell-62cfd21463535cac",
     "locked": true,
     "schema_version": 1,
     "solution": false
    }
   },
   "outputs": [],
   "source": [
    "import numpy as np\n",
    "\n",
    "import pandas as pd\n",
    "from pandas.api.types import CategoricalDtype\n",
    "\n",
    "%matplotlib inline\n",
    "import matplotlib.pyplot as plt\n",
    "import seaborn as sns\n",
    "from sklearn import linear_model as lm\n",
    "\n",
    "import warnings\n",
    "warnings.filterwarnings(\"ignore\")\n",
    "\n",
    "import zipfile\n",
    "import os\n",
    "\n",
    "from ds100_utils import run_linear_regression_test\n",
    "\n",
    "# Plot settings\n",
    "plt.rcParams['figure.figsize'] = (12, 9)\n",
    "plt.rcParams['font.size'] = 12"
   ]
  },
  {
   "cell_type": "markdown",
   "metadata": {},
   "source": [
    "Let's load the training/validation and test data."
   ]
  },
  {
   "cell_type": "code",
   "execution_count": 208,
   "metadata": {},
   "outputs": [],
   "source": [
    "with zipfile.ZipFile('cook_county_data.zip') as item:\n",
    "    item.extractall()"
   ]
  },
  {
   "cell_type": "markdown",
   "metadata": {},
   "source": [
    "The dataset was split into a testing and training set, train on the training set, and compare the prediction on the test set to the observed values. We saved the test set as `cook_county_contest_test.csv` for you, and the rest of the data is saved as `cook_county_train_val.csv`. Note that we have also removed the prediction `Sale Price` column from this test set, so you will not be able to use it for training. Only autograder on Gradescope has acces to these true values."
   ]
  },
  {
   "cell_type": "code",
   "execution_count": 209,
   "metadata": {
    "nbgrader": {
     "grade": false,
     "grade_id": "cell-e8fea30adc9d489b",
     "locked": true,
     "schema_version": 1,
     "solution": false
    }
   },
   "outputs": [],
   "source": [
    "training_val_data = pd.read_csv(\"cook_county_train_val.csv\", index_col='Unnamed: 0')\n",
    "test_data = pd.read_csv(\"cook_county_contest_test.csv\", index_col='Unnamed: 0')"
   ]
  },
  {
   "cell_type": "markdown",
   "metadata": {
    "nbgrader": {
     "grade": false,
     "grade_id": "cell-9d6d509b6e854e10",
     "locked": true,
     "schema_version": 1,
     "solution": false
    }
   },
   "source": [
    "As a good sanity check, we should at least verify that the data shape matches the description."
   ]
  },
  {
   "cell_type": "code",
   "execution_count": 210,
   "metadata": {
    "nbgrader": {
     "grade": false,
     "grade_id": "cell-c841a2de55691502",
     "locked": true,
     "schema_version": 1,
     "solution": false
    }
   },
   "outputs": [],
   "source": [
    "# 204792 observations and 62 features in training data\n",
    "assert training_val_data.shape == (204792, 62)\n",
    "# 55311 observations and 61 features in test data\n",
    "assert test_data.shape == (55311, 61)\n",
    "# Sale Price is provided in the training/validation data\n",
    "assert 'Sale Price' in training_val_data.columns.values\n",
    "# Sale Price is hidden in the test data\n",
    "assert 'Sale Price' not in test_data.columns.values"
   ]
  },
  {
   "cell_type": "markdown",
   "metadata": {
    "nbgrader": {
     "grade": false,
     "grade_id": "cell-ce9acc2f62c96e59",
     "locked": true,
     "schema_version": 1,
     "solution": false
    }
   },
   "source": [
    "Let's remind ourselves of the data available to us in the Cook County dataset. Remember, a more detailed description of each variable is included in `codebook.txt`, which is in the same directory as this notebook). **If you did not attempt Project A1,** you should take some time to familiarize yourself with the codebook before moving forward."
   ]
  },
  {
   "cell_type": "code",
   "execution_count": 211,
   "metadata": {
    "nbgrader": {
     "grade": false,
     "grade_id": "cell-4e60a7a0cda5eecf",
     "locked": true,
     "schema_version": 1,
     "solution": false
    }
   },
   "outputs": [
    {
     "data": {
      "text/plain": [
       "array(['PIN', 'Property Class', 'Neighborhood Code', 'Land Square Feet',\n",
       "       'Town Code', 'Apartments', 'Wall Material', 'Roof Material',\n",
       "       'Basement', 'Basement Finish', 'Central Heating', 'Other Heating',\n",
       "       'Central Air', 'Fireplaces', 'Attic Type', 'Attic Finish',\n",
       "       'Design Plan', 'Cathedral Ceiling', 'Construction Quality',\n",
       "       'Site Desirability', 'Garage 1 Size', 'Garage 1 Material',\n",
       "       'Garage 1 Attachment', 'Garage 1 Area', 'Garage 2 Size',\n",
       "       'Garage 2 Material', 'Garage 2 Attachment', 'Garage 2 Area',\n",
       "       'Porch', 'Other Improvements', 'Building Square Feet',\n",
       "       'Repair Condition', 'Multi Code', 'Number of Commercial Units',\n",
       "       'Estimate (Land)', 'Estimate (Building)', 'Deed No.', 'Sale Price',\n",
       "       'Longitude', 'Latitude', 'Census Tract',\n",
       "       'Multi Property Indicator', 'Modeling Group', 'Age', 'Use',\n",
       "       \"O'Hare Noise\", 'Floodplain', 'Road Proximity', 'Sale Year',\n",
       "       'Sale Quarter', 'Sale Half-Year', 'Sale Quarter of Year',\n",
       "       'Sale Month of Year', 'Sale Half of Year', 'Most Recent Sale',\n",
       "       'Age Decade', 'Pure Market Filter', 'Garage Indicator',\n",
       "       'Neigborhood Code (mapping)', 'Town and Neighborhood',\n",
       "       'Description', 'Lot Size'], dtype=object)"
      ]
     },
     "execution_count": 211,
     "metadata": {},
     "output_type": "execute_result"
    }
   ],
   "source": [
    "training_val_data.columns.values"
   ]
  },
  {
   "cell_type": "markdown",
   "metadata": {},
   "source": [
    "<!-- BEGIN QUESTION -->\n",
    "\n",
    "<br/><br/>\n",
    "<hr style=\"border: 5px solid #003262;\" />\n",
    "<hr style=\"border: 1px solid #fdb515;\" />\n",
    "\n",
    "## Question 0: Human Context and Ethics\n",
    "\n",
    "<br><br>\n",
    "\n",
    "--- \n",
    "\n",
    "### Question 0a\n",
    "\"How much is a house worth?\" Who might be interested in an answer to this question? **Please list at least three different parties (people or organizations) and state whether each one has an interest in seeing the housing price to be high or low.**\n"
   ]
  },
  {
   "cell_type": "markdown",
   "metadata": {},
   "source": [
    "Buyer: interested in seeing the housing price to be low. Seller: interested in seeing the housing price to be high. Tax Department: interested in seeing the housing price to be high."
   ]
  },
  {
   "cell_type": "markdown",
   "metadata": {},
   "source": [
    "<!-- END QUESTION -->\n",
    "\n",
    "<!-- BEGIN QUESTION -->\n",
    "\n",
    "<br><br>\n",
    "\n",
    "--- \n",
    "\n",
    "### Question 0b\n",
    "\n",
    "Which of the following scenarios strike you as unfair and why? You can choose more than one. There is no single right answer, but you must explain your reasoning.\n",
    "\n",
    "A. A homeowner whose home is assessed at a higher price than it would sell for.  \n",
    "B. A homeowner whose home is assessed at a lower price than it would sell for.  \n",
    "C. An assessment process that systematically overvalues inexpensive properties and undervalues expensive properties.  \n",
    "D. An assessment process that systematically undervalues inexpensive properties and overvalues expensive properties.\n",
    "\n"
   ]
  },
  {
   "cell_type": "markdown",
   "metadata": {},
   "source": [
    "C would be an unfair situation because most of inexpensive properties attract lower income range of home buyer, and most of expensive properties attract higher income range of home buyer. If the first one is overvalued by the assessment process, meaning the home owner will have to pay more property taxes than those who buy undervalued expensive properties. In other words, this process will be biased towards the rich who get the undervalued expensive properties."
   ]
  },
  {
   "cell_type": "markdown",
   "metadata": {},
   "source": [
    "<!-- END QUESTION -->\n",
    "\n",
    "<br><br>\n",
    "\n",
    "--- \n",
    "\n",
    "### Question 0c\n",
    "\n",
    "Consider a model that is fit to $n = 30$ training observations. Call the response $y$ (Log Sale Price), the predictions $\\hat{y}$, and the residuals $y - \\hat{y}$. Which of the following residual plots of $y$ versus $y - \\hat{y}$ correspond to a model that might make property assessments that result in to regressive taxation? Regressive taxation overvalues inexpensive properties and undervalues expensive propertie.\n",
    "\n",
    "![](res-plots.png)\n"
   ]
  },
  {
   "cell_type": "code",
   "execution_count": 212,
   "metadata": {
    "tags": []
   },
   "outputs": [],
   "source": [
    "q0c = 'A'"
   ]
  },
  {
   "cell_type": "code",
   "execution_count": 213,
   "metadata": {
    "deletable": false,
    "editable": false
   },
   "outputs": [
    {
     "data": {
      "text/html": [
       "<p><strong><pre style='display: inline;'>q0c</pre></strong> passed!</p>"
      ],
      "text/plain": [
       "q0c results: All test cases passed!"
      ]
     },
     "execution_count": 213,
     "metadata": {},
     "output_type": "execute_result"
    }
   ],
   "source": [
    "grader.check(\"q0c\")"
   ]
  },
  {
   "cell_type": "markdown",
   "metadata": {},
   "source": [
    "## The CCAO Dataset\n",
    "\n",
    "The dataset you’ll be working with comes from the Cook County Assessor’s Office (CCAO) in Illinois, a government institution that determines property taxes across most of Chicago’s metropolitan area and its nearby suburbs. In the United States, all property owners are required to pay property taxes, which are then used to fund public services including education, road maintenance, and sanitation. These property tax assessments are based on property values estimated using statistical models that consider multiple factors, such as real estate value and construction cost.\n",
    "\n",
    "This system, however, is not without flaws. In late 2017, a lawsuit was filed against the office of Cook County Assessor Joseph Berrios for producing “[racially discriminatory assessments and taxes](https://www.chicagotribune.com/politics/ct-cook-county-board-assessor-berrios-met-20170718-story.html).\" The lawsuit included claims that the assessor’s office undervalued high-priced homes and overvalued low-priced homes, creating a visible divide along racial lines: Wealthy homeowners, who were typically white, [paid less in property taxes](https://www.clccrul.org/bpnc-v-berrios-facts?rq=berrios), whereas [working-class, non-white homeowners paid more](https://www.chicagotribune.com/news/breaking/ct-cook-county-assessor-berrios-sued-met-20171214-story.html).\n",
    "\n",
    "The Chicago Tribune's four-part series, \"[The Tax Divide](https://www.chicagotribune.com/investigations/ct-tax-divide-investigation-20180425-storygallery.html)\", delves into how this was uncovered: After \"compiling and analyzing more than 100 million property tax records from the years 2003 through 2015, along with thousands of pages of documents, then vetting the findings with top experts in the field,\" they discovered that \"residential assessments had been so far off the mark for so many years.\" You can read more about their investigation [here](https://apps.chicagotribune.com/news/watchdog/cook-county-property-tax-divide/assessments.html).\n",
    "\n",
    "And make sure to watch Lecture 18 before answering the following questions!"
   ]
  },
  {
   "cell_type": "markdown",
   "metadata": {},
   "source": [
    "<!-- BEGIN QUESTION -->\n",
    "\n",
    "<br><br>\n",
    "\n",
    "--- \n",
    "\n",
    "### Question 0d\n",
    "\n",
    "What were the central problems with the earlier property tax system in Cook County as reported by the Chicago Tribune ? And what were the primary causes of these problems? (Note: in addition to reading the paragraph above you will need to watch the lecture to answer this question)"
   ]
  },
  {
   "cell_type": "markdown",
   "metadata": {},
   "source": [
    "One of the central problems with the earlier property tax system in Cook County was the houses in low-income neighborhood being overvalued while ones in wealthy community being undervalued, and redlinning as a result of both federal policy and rating system that takes races into account. The primary causes of these are having races as one the factors in the system, and similar patterns of a houses in a same community act as features in the model (e.g: neighborhood)."
   ]
  },
  {
   "cell_type": "markdown",
   "metadata": {},
   "source": [
    "<!-- END QUESTION -->\n",
    "\n",
    "<!-- BEGIN QUESTION -->\n",
    "\n",
    "<br><br>\n",
    "\n",
    "--- \n",
    "\n",
    "### Question 0e\n",
    "\n",
    "In addition to being regressive, how did the property tax system in Cook County place a disproportionate tax burden on non-white property owners?"
   ]
  },
  {
   "cell_type": "markdown",
   "metadata": {},
   "source": [
    "In addition to the algorithms flaws, even homeowners were allowed to appeal their home values assesment, most of wealthy people who could afford lawyers tend to do this more than the poor. This results in the fact that the poor and non-white homeowners paid the property taxes more than the rich white homeowners."
   ]
  },
  {
   "cell_type": "markdown",
   "metadata": {},
   "source": [
    "<!-- END QUESTION -->\n",
    "\n",
    "<br><br>\n",
    "\n",
    "<hr style=\"border: 1px solid #fdb515;\" />\n",
    "\n",
    "## Question 1: Preparing Data\n",
    "\n",
    "\n",
    "Let's split the dataset into a training set and validation set. We will use the training set to fit our model's parameters, and we will use the validation set to evaluate how well our model will perform on unseen data drawn from the same distribution. If we used all the data to fit our model, we would not have a way to estimate model performance on **unseen data** such as the test set in `cook_county_contest_test.csv`.\n",
    "\n",
    "In the cell below, complete the function `train_val_split` that splits `data` into two smaller DataFrames named `train` and `validation`. Let `train` contain 80% of the data, and let `validation` contain the remaining 20% of the data. You should not be importing any additional libraries for this question. Your answer should use the variabale `shuffled_indices` defined for you. Take a look at the`np.permuation` [documentation](https://numpy.org/doc/stable/reference/random/generated/numpy.random.permutation.html).\n",
    "\n",
    "**Note**: \n",
    "\n",
    "You may see that some sources uses the name holdout, validation, or test synonymously since all of them are not used for training directly. There is no difference between holdout and validation set, both can be used for hyperparameter tuning. However, test set should only be used for final unbiased evaluation.\n",
    "\n",
    "**Hint:**\n",
    "\n",
    "While there are multiple solutions, one way is to create two `NumPy` arrays named `train_indices` and `validation_indices` (or any varaible names of your choice) that contain a *random* 80% of the indices in `full_data`, and the remaining 20% of the indices, respectively. Then, use these arrays to index into `full_data` to create your final `train` and `validation` DataFrames. To ensure that your code matches to our solution, use the first 80% as the the training set and the last 20% as the validation set. \n",
    "\n",
    "*The provided tests check that you not only answered correctly, but ended up with the exact same train/validation split as our reference implementation. Later testing is easier this way.*"
   ]
  },
  {
   "cell_type": "code",
   "execution_count": 214,
   "metadata": {
    "tags": []
   },
   "outputs": [],
   "source": [
    "# This makes the train-validation split in this section reproducible across different runs \n",
    "# of the notebook. You do not need this line to run train_val_split in general\n",
    "\n",
    "# DO NOT CHANGE THIS LINE\n",
    "np.random.seed(1337)\n",
    "# DO NOT CHANGE THIS LINE\n",
    "\n",
    "def train_val_split(data):\n",
    "    data_len = data.shape[0]\n",
    "    shuffled_indices = np.random.permutation(data_len)\n",
    "    \n",
    "    train_indices = shuffled_indices[ : int(data_len*0.8)]\n",
    "    validation_indices = shuffled_indices[int(data_len*0.8) : ]\n",
    "    train = data.iloc[train_indices, :]\n",
    "    validation = data.iloc[validation_indices, :]\n",
    "   \n",
    "    return train, validation\n",
    "\n",
    "train, validation = train_val_split(training_val_data)\n"
   ]
  },
  {
   "cell_type": "code",
   "execution_count": 215,
   "metadata": {
    "deletable": false,
    "editable": false
   },
   "outputs": [
    {
     "data": {
      "text/html": [
       "<p><strong><pre style='display: inline;'>q1</pre></strong> passed!</p>"
      ],
      "text/plain": [
       "q1 results: All test cases passed!"
      ]
     },
     "execution_count": 215,
     "metadata": {},
     "output_type": "execute_result"
    }
   ],
   "source": [
    "grader.check(\"q1\")"
   ]
  },
  {
   "cell_type": "markdown",
   "metadata": {},
   "source": [
    "<br><br>\n",
    "\n",
    "<hr style=\"border: 1px solid #fdb515;\" />\n",
    "\n",
    "## Question 2: Fitting a Simple Model\n",
    "\n",
    "Now, let's fit our updated linear regression model using the ordinary least squares estimator! We will start you off with something simple by using only 2 features: the **number of bedrooms** in the household and the **log-transformed total area covered by the building** (in square feet). \n",
    "\n",
    "Consider the following expression for our 1st linear model that contains one of the features:\n",
    "\n",
    "$$\n",
    "\\text{Log Sale Price} = \\theta_0 + \\theta_1 \\cdot (\\text{Bedrooms})\n",
    "$$\n",
    "\n",
    "In parallel, we will also consider a 2nd model that contains both features:\n",
    "\n",
    "$$\n",
    "\\text{Log Sale Price} = \\theta_0 + \\theta_1 \\cdot (\\text{Bedrooms}) + \\theta_2 \\cdot (\\text{Log Building Square Feet})\n",
    "$$"
   ]
  },
  {
   "cell_type": "markdown",
   "metadata": {},
   "source": [
    "<!-- BEGIN QUESTION -->\n",
    "\n",
    "<br><br>\n",
    "\n",
    "--- \n",
    "\n",
    "## Question 2a\n",
    "\n",
    "**Without running any calculation or code**, complete the following statement by filling in the blank with one of the  comparators below:\n",
    "\n",
    "$$\\ge$$\n",
    "$$\\le$$\n",
    "$$=$$\n",
    "\n",
    "Suppose we quantify the loss on our linear models using MSE (Mean Squared Error). Consider the training loss of the 1st model and the training loss of the 2nd model. We are guaranteed that:\n",
    "\n",
    "$$\n",
    "\\text{Training Loss of the 1st Model}  \\ge \\text{Training Loss of the 2nd Model}\n",
    "$$\n"
   ]
  },
  {
   "cell_type": "markdown",
   "metadata": {},
   "source": [
    "In general, adding another featuren will cause the training error of our model decrease or stay the same. Thus, the first model with only one feature will alwats have training loss greater than or equal to training loss of the second model.\n"
   ]
  },
  {
   "cell_type": "markdown",
   "metadata": {},
   "source": [
    "<!-- END QUESTION -->\n",
    "\n",
    "<br><br>\n",
    "\n",
    "### Pipeline function\n",
    "\n",
    "In A.1, you wrote a few functions that added features to the dataset. Instead of calling them manually one-by-one each time, it is best practice to encapsulate all of this feature engineering into one \"pipeline\" function. Defining and using a pipeline reduces all the feature engineering to just one function call and ensures that the same transformations are applied to all data.  Below, we combined some functions into a single helper function that outputs X and y for the first model above. Try to undestand what this function does! \n",
    "\n",
    "**Note:** We have automatically imported staff implementations of the functions you wrote in Project A.1. These functions are `remove_outliers`, `add_total_bedrooms`, `find_expensive_neighborhoods`, `add_in_expensive_neighborhood`, and `ohe_roof_material`. You are welcome to copy over your own implementations if you like."
   ]
  },
  {
   "cell_type": "code",
   "execution_count": 216,
   "metadata": {},
   "outputs": [
    {
     "data": {
      "text/html": [
       "<div>\n",
       "<style scoped>\n",
       "    .dataframe tbody tr th:only-of-type {\n",
       "        vertical-align: middle;\n",
       "    }\n",
       "\n",
       "    .dataframe tbody tr th {\n",
       "        vertical-align: top;\n",
       "    }\n",
       "\n",
       "    .dataframe thead th {\n",
       "        text-align: right;\n",
       "    }\n",
       "</style>\n",
       "<table border=\"1\" class=\"dataframe\">\n",
       "  <thead>\n",
       "    <tr style=\"text-align: right;\">\n",
       "      <th></th>\n",
       "      <th>Bedrooms</th>\n",
       "    </tr>\n",
       "  </thead>\n",
       "  <tbody>\n",
       "    <tr>\n",
       "      <th>130829</th>\n",
       "      <td>4</td>\n",
       "    </tr>\n",
       "    <tr>\n",
       "      <th>193890</th>\n",
       "      <td>2</td>\n",
       "    </tr>\n",
       "    <tr>\n",
       "      <th>30507</th>\n",
       "      <td>2</td>\n",
       "    </tr>\n",
       "    <tr>\n",
       "      <th>91308</th>\n",
       "      <td>2</td>\n",
       "    </tr>\n",
       "    <tr>\n",
       "      <th>131132</th>\n",
       "      <td>3</td>\n",
       "    </tr>\n",
       "  </tbody>\n",
       "</table>\n",
       "</div>"
      ],
      "text/plain": [
       "        Bedrooms\n",
       "130829         4\n",
       "193890         2\n",
       "30507          2\n",
       "91308          2\n",
       "131132         3"
      ]
     },
     "metadata": {},
     "output_type": "display_data"
    },
    {
     "data": {
      "text/plain": [
       "130829    12.994530\n",
       "193890    11.848683\n",
       "30507     11.813030\n",
       "91308     13.060488\n",
       "131132    12.516861\n",
       "Name: Log Sale Price, dtype: float64"
      ]
     },
     "metadata": {},
     "output_type": "display_data"
    }
   ],
   "source": [
    "from feature_func import *    # Import functions from Project A1\n",
    "\n",
    "###### Copy any function you would like to below ######\n",
    "...\n",
    "#######################################################\n",
    "\n",
    "\n",
    "def process_data_simple(data):\n",
    "    # Remove outliers\n",
    "    data = remove_outliers(data, 'Sale Price', lower=499)\n",
    "    # Create Log Sale Price column\n",
    "    data = log_transform(data, 'Sale Price')\n",
    "    # Create Bedrooms column\n",
    "    data = add_total_bedrooms(data)\n",
    "    # Select X and y from the full data\n",
    "    X = data[['Bedrooms']]\n",
    "    y = data['Log Sale Price']\n",
    "    return X, y\n",
    "\n",
    "# Reload the data\n",
    "full_data = pd.read_csv(\"cook_county_train.csv\")\n",
    "\n",
    "# Process the data using the pipeline for the first model\n",
    "np.random.seed(1337)\n",
    "train_m1, valid_m1 = train_val_split(full_data)\n",
    "X_train_m1_simple, y_train_m1_simple = process_data_simple(train_m1)\n",
    "X_valid_m1_simple, y_valid_m1_simple = process_data_simple(valid_m1)\n",
    "\n",
    "# Take a look at the result\n",
    "display(X_train_m1_simple.head())\n",
    "display(y_train_m1_simple.head())"
   ]
  },
  {
   "cell_type": "markdown",
   "metadata": {
    "tags": []
   },
   "source": [
    "### `.pipe`\n",
    "\n",
    "Alternatively, we build the pipeline using `pd.DataFrame.pipe` ([documentation](https://pandas.pydata.org/pandas-docs/stable/reference/api/pandas.DataFrame.pipe.html)). Take a look at our use of `pd.DataFrame.pipe` below. \n",
    "\n",
    "The following function `process_data_gm` takes in a dataframe `data`, a list `pipeline_functions` containing 3-element tuples `(function, arguments, keyword_arguments)` that will be called on `data` in the pipeline, and the label `prediction_col` that represents the column of our target variable (`Sale Price` in this case). You can use this function with each of the tuples passed in through `pipeline_functions`."
   ]
  },
  {
   "cell_type": "code",
   "execution_count": 217,
   "metadata": {},
   "outputs": [],
   "source": [
    "# Run this cell to define process_data_gm and select_columns, no futher actions needed.\n",
    "def process_data_gm(data, pipeline_functions, prediction_col):\n",
    "    \"\"\"Process the data for a guided model.\"\"\"\n",
    "    for function, arguments, keyword_arguments in pipeline_functions:\n",
    "        if keyword_arguments and (not arguments):\n",
    "            data = data.pipe(function, **keyword_arguments)\n",
    "        elif (not keyword_arguments) and (arguments):\n",
    "            data = data.pipe(function, *arguments)\n",
    "        else:\n",
    "            data = data.pipe(function)\n",
    "    X = data.drop(columns=[prediction_col])\n",
    "    y = data.loc[:, prediction_col]\n",
    "    return X, y"
   ]
  },
  {
   "cell_type": "markdown",
   "metadata": {},
   "source": [
    "<br><br>\n",
    "\n",
    "--- \n",
    "\n",
    "## Question 2b\n",
    "\n",
    "It is time to prepare the training and validation data for the two models we proposed above. Use the following 2 cells to reload a fresh dataset from scratch and run them through the following preprocessing steps using `process_data_gm` for each model:\n",
    "\n",
    "- Perform a `train_val_split` on the original dataset. Let 80% of the set be training data and 20% of the set be validation data. \n",
    "- For both the training and validation set,\n",
    "    1. Remove outliers in `Sale Price` by so that we are considering households with a price that is strictly greater than 499 dollars (i.e., greater than or equal to 500 dollars). \n",
    "    2. Apply log transformations to `Sale Price` and the `Building Square Feet` columns to create 2 new columns `Log Sale Price` and `Log Building Square Feet`.\n",
    "    3. Extract the total number of bedrooms into a new column `Bedrooms` from the `Description` column.\n",
    "    4. Select the columns `Log Sale Price` and `Bedrooms` (and `Log Building Square Feet` as well if this is the 2nd model). We have implemented the helper function `select_columns` for you.\n",
    "    5. Return the design matrix $X$ and the observed vector $y$. **Your design matrix and observed vector should either be numpy arrays or pandas dataframes**.\n",
    "\n",
    "Assign the final training data and validation data for both models to the following set of variables:\n",
    "\n",
    "- 1st Model: `X_train_m1`, `y_train_m1`, `X_valid_m1`, `y_valid_m1`. This is already implemented for you. \n",
    "- 2nd Model: `X_train_m2`, `y_train_m2`, `X_valid_m2`, `y_valid_m2`. Please implement this in the second cell below. You may use the first model as an example.\n",
    "\n",
    "Please save your pipelines functions as a list of tuples and assign it to `m1_pipelines` for model 1 and `m2_pipelines` for model 2 for the purpose of grading. See an example below.\n",
    "\n",
    "**Note**: \n",
    "* Do not change the line `np.random.seed(1337)` as it ensures we are partitioning the dataset exactly the same way for both models (otherwise their performance isn't directly comparable)."
   ]
  },
  {
   "cell_type": "code",
   "execution_count": 218,
   "metadata": {},
   "outputs": [
    {
     "data": {
      "text/html": [
       "<div>\n",
       "<style scoped>\n",
       "    .dataframe tbody tr th:only-of-type {\n",
       "        vertical-align: middle;\n",
       "    }\n",
       "\n",
       "    .dataframe tbody tr th {\n",
       "        vertical-align: top;\n",
       "    }\n",
       "\n",
       "    .dataframe thead th {\n",
       "        text-align: right;\n",
       "    }\n",
       "</style>\n",
       "<table border=\"1\" class=\"dataframe\">\n",
       "  <thead>\n",
       "    <tr style=\"text-align: right;\">\n",
       "      <th></th>\n",
       "      <th>Bedrooms</th>\n",
       "    </tr>\n",
       "  </thead>\n",
       "  <tbody>\n",
       "    <tr>\n",
       "      <th>130829</th>\n",
       "      <td>4</td>\n",
       "    </tr>\n",
       "    <tr>\n",
       "      <th>193890</th>\n",
       "      <td>2</td>\n",
       "    </tr>\n",
       "    <tr>\n",
       "      <th>30507</th>\n",
       "      <td>2</td>\n",
       "    </tr>\n",
       "    <tr>\n",
       "      <th>91308</th>\n",
       "      <td>2</td>\n",
       "    </tr>\n",
       "    <tr>\n",
       "      <th>131132</th>\n",
       "      <td>3</td>\n",
       "    </tr>\n",
       "  </tbody>\n",
       "</table>\n",
       "</div>"
      ],
      "text/plain": [
       "        Bedrooms\n",
       "130829         4\n",
       "193890         2\n",
       "30507          2\n",
       "91308          2\n",
       "131132         3"
      ]
     },
     "metadata": {},
     "output_type": "display_data"
    },
    {
     "data": {
      "text/plain": [
       "130829    12.994530\n",
       "193890    11.848683\n",
       "30507     11.813030\n",
       "91308     13.060488\n",
       "131132    12.516861\n",
       "Name: Log Sale Price, dtype: float64"
      ]
     },
     "metadata": {},
     "output_type": "display_data"
    }
   ],
   "source": [
    "# Reload the data\n",
    "full_data = pd.read_csv(\"cook_county_train.csv\")\n",
    "\n",
    "# Process the data using the pipeline for the first model\n",
    "np.random.seed(1337)\n",
    "train_m1, valid_m1 = train_val_split(full_data)\n",
    "\n",
    "# Helper function\n",
    "def select_columns(data, *columns):\n",
    "    \"\"\"Select only columns passed as arguments.\"\"\"\n",
    "    return data.loc[:, columns]\n",
    "\n",
    "# Pipelines, a list of tuples\n",
    "m1_pipelines = [\n",
    "    (remove_outliers, None, {\n",
    "        'variable': 'Sale Price',\n",
    "        'lower': 499,\n",
    "    }),\n",
    "    (log_transform, None, {'col': 'Sale Price'}),\n",
    "    (add_total_bedrooms, None, None),\n",
    "    (select_columns, ['Log Sale Price', 'Bedrooms'], None)\n",
    "]\n",
    "\n",
    "X_train_m1, y_train_m1 = process_data_gm(train_m1, m1_pipelines, 'Log Sale Price')\n",
    "X_valid_m1, y_valid_m1 = process_data_gm(valid_m1, m1_pipelines, 'Log Sale Price')\n",
    "\n",
    "# Take a look at the result\n",
    "# It should be the same above as the result returned by process_data_simple\n",
    "display(X_train_m1.head())\n",
    "display(y_train_m1.head())"
   ]
  },
  {
   "cell_type": "code",
   "execution_count": 219,
   "metadata": {
    "tags": []
   },
   "outputs": [
    {
     "data": {
      "text/html": [
       "<div>\n",
       "<style scoped>\n",
       "    .dataframe tbody tr th:only-of-type {\n",
       "        vertical-align: middle;\n",
       "    }\n",
       "\n",
       "    .dataframe tbody tr th {\n",
       "        vertical-align: top;\n",
       "    }\n",
       "\n",
       "    .dataframe thead th {\n",
       "        text-align: right;\n",
       "    }\n",
       "</style>\n",
       "<table border=\"1\" class=\"dataframe\">\n",
       "  <thead>\n",
       "    <tr style=\"text-align: right;\">\n",
       "      <th></th>\n",
       "      <th>Bedrooms</th>\n",
       "      <th>Log Building Square Feet</th>\n",
       "    </tr>\n",
       "  </thead>\n",
       "  <tbody>\n",
       "    <tr>\n",
       "      <th>130829</th>\n",
       "      <td>4</td>\n",
       "      <td>7.870166</td>\n",
       "    </tr>\n",
       "    <tr>\n",
       "      <th>193890</th>\n",
       "      <td>2</td>\n",
       "      <td>7.002156</td>\n",
       "    </tr>\n",
       "    <tr>\n",
       "      <th>30507</th>\n",
       "      <td>2</td>\n",
       "      <td>6.851185</td>\n",
       "    </tr>\n",
       "    <tr>\n",
       "      <th>91308</th>\n",
       "      <td>2</td>\n",
       "      <td>7.228388</td>\n",
       "    </tr>\n",
       "    <tr>\n",
       "      <th>131132</th>\n",
       "      <td>3</td>\n",
       "      <td>7.990915</td>\n",
       "    </tr>\n",
       "  </tbody>\n",
       "</table>\n",
       "</div>"
      ],
      "text/plain": [
       "        Bedrooms  Log Building Square Feet\n",
       "130829         4                  7.870166\n",
       "193890         2                  7.002156\n",
       "30507          2                  6.851185\n",
       "91308          2                  7.228388\n",
       "131132         3                  7.990915"
      ]
     },
     "metadata": {},
     "output_type": "display_data"
    },
    {
     "data": {
      "text/plain": [
       "130829    12.994530\n",
       "193890    11.848683\n",
       "30507     11.813030\n",
       "91308     13.060488\n",
       "131132    12.516861\n",
       "Name: Log Sale Price, dtype: float64"
      ]
     },
     "metadata": {},
     "output_type": "display_data"
    }
   ],
   "source": [
    "# DO NOT CHANGE THIS LINE\n",
    "np.random.seed(1337)\n",
    "# DO NOT CHANGE THIS LINE\n",
    "\n",
    "# Process the data using the pipeline for the second model\n",
    "train_m2, valid_m2 = train_val_split(full_data)\n",
    "\n",
    "m2_pipelines = [\n",
    "    (remove_outliers, None, {\n",
    "        'variable': 'Sale Price',\n",
    "        'lower': 499,\n",
    "    }),\n",
    "    (log_transform, None, {'col': 'Sale Price'}),\n",
    "    (log_transform, None, {'col': 'Building Square Feet'}),\n",
    "    (add_total_bedrooms, None, None),\n",
    "    (select_columns, ['Log Sale Price', 'Bedrooms', 'Log Building Square Feet'], None)\n",
    "]\n",
    "\n",
    "X_train_m2, y_train_m2 = process_data_gm(train_m2, m2_pipelines, 'Log Sale Price')\n",
    "X_valid_m2, y_valid_m2 = process_data_gm(valid_m2, m2_pipelines, 'Log Sale Price')\n",
    "\n",
    "\n",
    "# Take a look at the result\n",
    "display(X_train_m2.head())\n",
    "display(y_train_m2.head())"
   ]
  },
  {
   "cell_type": "code",
   "execution_count": 220,
   "metadata": {
    "deletable": false,
    "editable": false
   },
   "outputs": [
    {
     "data": {
      "text/html": [
       "<p><strong><pre style='display: inline;'>q2b</pre></strong> passed!</p>"
      ],
      "text/plain": [
       "q2b results: All test cases passed!"
      ]
     },
     "execution_count": 220,
     "metadata": {},
     "output_type": "execute_result"
    }
   ],
   "source": [
    "grader.check(\"q2b\")"
   ]
  },
  {
   "cell_type": "markdown",
   "metadata": {},
   "source": [
    "<br><br>\n",
    "\n",
    "--- \n",
    "\n",
    "## Question 2c\n",
    "\n",
    "Finally, let's do some regression!"
   ]
  },
  {
   "cell_type": "markdown",
   "metadata": {},
   "source": [
    "We first initialize a [`sklearn.linear_model.LinearRegression`](https://scikit-learn.org/stable/modules/generated/sklearn.linear_model.LinearRegression.html) object for both of our models. We set the `fit_intercept = True` to ensure that the linear model has a non-zero intercept (i.e., a bias term)."
   ]
  },
  {
   "cell_type": "code",
   "execution_count": 221,
   "metadata": {},
   "outputs": [],
   "source": [
    "linear_model_m1 = lm.LinearRegression(fit_intercept=True)\n",
    "linear_model_m2 = lm.LinearRegression(fit_intercept=True)"
   ]
  },
  {
   "cell_type": "markdown",
   "metadata": {},
   "source": [
    "Now it's time to fit our linear regression model. Use the cell below to fit both models, and then use it to compute the fitted values of `Log Sale Price` over the training data, and the predicted values of `Log Sale Price` for the validation data.\n",
    "\n",
    "Assign the predicted values from both of your models on the training and validation set to the following variables:\n",
    "\n",
    "- 1st Model: **predicted values** on training set: `y_fitted_m1`, **predicted values** on validation set: `y_predicted_m1`\n",
    "- 2nd Model: **predicted values** on training set: `y_fitted_m2`, **predicted values** on validation set: `y_predicted_m2`\n",
    "\n",
    "**Note**: To make sure you understand how to find the predicted value for both the training and validation data set, there won't be any hidden tests for this part."
   ]
  },
  {
   "cell_type": "code",
   "execution_count": 222,
   "metadata": {
    "tags": []
   },
   "outputs": [],
   "source": [
    "# Fit the 1st model\n",
    "linear_model_m1.fit(X_train_m1, y_train_m1)\n",
    "# Compute the fitted and predicted values of Log Sale Price for 1st model\n",
    "y_fitted_m1 = linear_model_m1.predict(X_train_m1) \n",
    "y_predicted_m1 = linear_model_m1.predict(X_valid_m1)\n",
    "\n",
    "# Fit the 2nd model\n",
    "linear_model_m2.fit(X_train_m2, y_train_m2)\n",
    "# Compute the fitted and predicted values of Log Sale Price for 2nd model\n",
    "y_fitted_m2 = linear_model_m2.predict(X_train_m2)\n",
    "y_predicted_m2 = linear_model_m2.predict(X_valid_m2)"
   ]
  },
  {
   "cell_type": "code",
   "execution_count": 223,
   "metadata": {
    "deletable": false,
    "editable": false
   },
   "outputs": [
    {
     "data": {
      "text/html": [
       "<p><strong><pre style='display: inline;'>q2c</pre></strong> passed!</p>"
      ],
      "text/plain": [
       "q2c results: All test cases passed!"
      ]
     },
     "execution_count": 223,
     "metadata": {},
     "output_type": "execute_result"
    }
   ],
   "source": [
    "grader.check(\"q2c\")"
   ]
  },
  {
   "cell_type": "markdown",
   "metadata": {},
   "source": [
    "<br><br>\n",
    "\n",
    "<hr style=\"border: 1px solid #fdb515;\" />\n",
    "\n",
    "## Question 3: Evaluate Our Simple Model\n",
    "\n",
    "<br><br>\n",
    "\n",
    "--- \n",
    "\n",
    "## Question 3a\n",
    "\n",
    "\n",
    "We are moving into analysis of our two models! Let's compare the performance of our two regression models using the Root Mean Squared Error (RMSE) function.\n",
    "\n",
    "$$RMSE = \\sqrt{\\dfrac{\\sum_{\\text{houses in valid set}}(\\text{actual price for house} - \\text{predicted price for house})^2}{\\text{number of of houses}}}$$\n",
    "\n",
    "The function is provided below."
   ]
  },
  {
   "cell_type": "code",
   "execution_count": 224,
   "metadata": {},
   "outputs": [],
   "source": [
    "def rmse(predicted, actual):\n",
    "    \"\"\"\n",
    "    Calculates RMSE from actual and predicted values\n",
    "    Input:\n",
    "      predicted (1D array): vector of predicted/fitted values\n",
    "      actual (1D array): vector of actual values\n",
    "    Output:\n",
    "      a float, the root-mean square error\n",
    "    \"\"\"\n",
    "    return np.sqrt(np.mean((actual - predicted)**2))"
   ]
  },
  {
   "cell_type": "markdown",
   "metadata": {},
   "source": [
    "Now use your `rmse` function to calculate the training error and valid error for both models in the cell below. Since our model predicts `Log Sale Price`, we may compute RMSE between the predicted and observed `Log Sale Price`.\n",
    "\n",
    "Assign the error from both of your models to the following variables:\n",
    "\n",
    "- 1st model: `training_error_m1`, `valid_error_m1`\n",
    "- 2nd model: `training_error_m2`, `valid_error_m2`\n",
    "\n",
    "However, the target variable `Log Sale Price` we are working with is log-transformed and often difficult to interpret. It can also be beneficial to transform it back to its original form and then compute the RMSE so we will have more context on how our model is performing when compared to actual housing prices. Compute RMSE between the predicted and observed `Sale Price`.\n",
    "\n",
    "Assign the error on the \"de-log-transformed\" sale price from both of your models to the following variables:\n",
    "\n",
    "- 1st model: `training_error_m1_delog`, `valid_error_m1_delog`\n",
    "- 2nd model: `training_error_m2_delog`, `valid_error_m2_delog`\n"
   ]
  },
  {
   "cell_type": "code",
   "execution_count": 225,
   "metadata": {
    "tags": []
   },
   "outputs": [
    {
     "name": "stdout",
     "output_type": "stream",
     "text": [
      "1st Model\n",
      "Training RMSE: 0.9025651719699077\n",
      "Validation RMSE: 0.9068644732045896\n",
      "\n",
      "1st Model (no log transform)\n",
      "Training RMSE: 382697.78149699024\n",
      "Validation RMSE: 310679.2486611569\n",
      "\n",
      "2nd Model\n",
      "Training RMSE: 0.8042009333446841\n",
      "Validation RMSE: 0.8113963052434995\n",
      "\n",
      "2nd Model (no log transform)\n",
      "Training RMSE: 325716.40819160367\n",
      "Validation RMSE: 254880.42228506133\n",
      "\n"
     ]
    }
   ],
   "source": [
    "# Training and validation errors for the 1st model\n",
    "training_error_m1 = rmse(y_fitted_m1, y_train_m1)\n",
    "validation_error_m1 = rmse(y_predicted_m1, y_valid_m1)\n",
    "\n",
    "# Training and validation errors for the 1st model (in its original values before the log transform)\n",
    "training_error_m1_delog = rmse(np.exp(y_fitted_m1), np.exp(y_train_m1))\n",
    "validation_error_m1_delog = rmse(np.exp(y_predicted_m1), np.exp(y_valid_m1))\n",
    "\n",
    "\n",
    "# Training and validation errors for the 2nd model\n",
    "training_error_m2 = rmse(y_fitted_m2, y_train_m2)\n",
    "validation_error_m2 = rmse(y_predicted_m2, y_valid_m2)\n",
    "\n",
    "\n",
    "# Training and validation errors for the 2nd model (in its original values before the log transform)\n",
    "training_error_m2_delog = rmse(np.exp(y_fitted_m2), np.exp(y_train_m2))\n",
    "validation_error_m2_delog = rmse(np.exp(y_predicted_m2), np.exp(y_valid_m2))\n",
    "\n",
    "print(\"1st Model\\nTraining RMSE: {}\\nValidation RMSE: {}\\n\".format(training_error_m1, validation_error_m1))\n",
    "print(\"1st Model (no log transform)\\nTraining RMSE: {}\\nValidation RMSE: {}\\n\".format(training_error_m1_delog, validation_error_m1_delog))\n",
    "print(\"2nd Model\\nTraining RMSE: {}\\nValidation RMSE: {}\\n\".format(training_error_m2, validation_error_m2))\n",
    "print(\"2nd Model (no log transform)\\nTraining RMSE: {}\\nValidation RMSE: {}\\n\".format(training_error_m2_delog, validation_error_m2_delog))"
   ]
  },
  {
   "cell_type": "code",
   "execution_count": 226,
   "metadata": {
    "deletable": false,
    "editable": false
   },
   "outputs": [
    {
     "data": {
      "text/html": [
       "<p><strong><pre style='display: inline;'>q3a</pre></strong> passed!</p>"
      ],
      "text/plain": [
       "q3a results: All test cases passed!"
      ]
     },
     "execution_count": 226,
     "metadata": {},
     "output_type": "execute_result"
    }
   ],
   "source": [
    "grader.check(\"q3a\")"
   ]
  },
  {
   "cell_type": "markdown",
   "metadata": {},
   "source": [
    "<br><br>\n",
    "\n",
    "Let's compare the actual parameters ($\\theta_0$ and $\\theta_1$) from both of our models. As a quick reminder,\n",
    "\n",
    "for the 1st model,\n",
    "$$\n",
    "\\text{Log Sale Price} = \\theta_0 + \\theta_1 \\cdot (\\text{Bedrooms})\n",
    "$$\n",
    "\n",
    "for the 2nd model,\n",
    "$$\n",
    "\\text{Log Sale Price} = \\theta_0 + \\theta_1 \\cdot (\\text{Bedrooms}) + \\theta_2 \\cdot (\\text{Log Building Square Feet})\n",
    "$$\n",
    "\n",
    "Run the following cell and compare the values of $\\theta_1$ from both models. "
   ]
  },
  {
   "cell_type": "code",
   "execution_count": 227,
   "metadata": {},
   "outputs": [
    {
     "name": "stdout",
     "output_type": "stream",
     "text": [
      "1st Model\n",
      "θ_0: 10.571725401040084\n",
      "θ_1: 0.4969197463141442\n",
      "2nd Model\n",
      "θ_0: 1.9339633173823696\n",
      "θ_1: -0.030647249803554506\n",
      "θ_2: 1.4170991378689644\n"
     ]
    }
   ],
   "source": [
    "# Parameters from 1st model\n",
    "theta0_m1 = linear_model_m1.intercept_\n",
    "theta1_m1 = linear_model_m1.coef_[0]\n",
    "\n",
    "# Parameters from 2nd model\n",
    "theta0_m2 = linear_model_m2.intercept_\n",
    "theta1_m2, theta2_m2 = linear_model_m2.coef_\n",
    "\n",
    "print(\"1st Model\\nθ_0: {}\\nθ_1: {}\".format(theta0_m1, theta1_m1))\n",
    "print(\"2nd Model\\nθ_0: {}\\nθ_1: {}\\nθ_2: {}\".format(theta0_m2, theta1_m2, theta2_m2))"
   ]
  },
  {
   "cell_type": "markdown",
   "metadata": {},
   "source": [
    "<!-- BEGIN QUESTION -->\n",
    "\n",
    "<br><br>\n",
    "\n",
    "--- \n",
    "\n",
    "## Question 3b\n",
    "\n",
    "You should oberseve that $\\theta_1$ change from positive to negative when we introduce an additional feature in our 2nd model.  Provide a reasoning why this may occur. **Hint:** which feature is more useful is predicting `Log Sale Price`? "
   ]
  },
  {
   "cell_type": "markdown",
   "metadata": {},
   "source": [
    "This may occure because the 2nd feature \"Log BuildingSquare Feet\" appears to be more helpful when predicting housing prices, thus our optimized model puts more weight on this feature over the first feature \"Bedrooms\". This explains why theta_1 becomes negative in model 2."
   ]
  },
  {
   "cell_type": "markdown",
   "metadata": {},
   "source": [
    "<!-- END QUESTION -->\n",
    "\n",
    "<!-- BEGIN QUESTION -->\n",
    "\n",
    "<br><br>\n",
    "\n",
    "--- \n",
    "\n",
    "## Question 3c\n",
    "\n",
    "Another way of understanding the performance (and appropriateness) of a model is through a plot of the residuals versus the observations.\n",
    "\n",
    "In the cell below, use [`plt.scatter`](https://matplotlib.org/stable/api/_as_gen/matplotlib.pyplot.scatter.html) to plot the residuals from predicting `Log Sale Price` using **only the 2nd model** against the original `Log Sale Price` for the **validation data**. With a data size this large, it is diffult to avoid overplotting entirely. You should also ensure that the dot size and opacity in the scatter plot are set appropriately to reduce the impact of overplotting as much as possible."
   ]
  },
  {
   "cell_type": "code",
   "execution_count": 228,
   "metadata": {
    "nbgrader": {
     "grade": false,
     "grade_id": "cell-4d79f42d60b94fca",
     "locked": true,
     "schema_version": 1,
     "solution": false
    },
    "tags": []
   },
   "outputs": [
    {
     "data": {
      "image/png": "[encoded data removed]",
      "text/plain": [
       "<Figure size 1200x900 with 1 Axes>"
      ]
     },
     "metadata": {},
     "output_type": "display_data"
    }
   ],
   "source": [
    "plt.scatter(y_valid_m2, y_valid_m2 - y_predicted_m2, s=0.2,alpha=0.8)\n",
    "plt.xlabel(\"Original Log Sale Price $y$\")\n",
    "plt.ylabel(\"Residual $(y - \\hat{y})$\")\n",
    "plt.title(\"Original Y versus Residuals\");"
   ]
  },
  {
   "cell_type": "markdown",
   "metadata": {},
   "source": [
    "<!-- END QUESTION -->\n",
    "\n",
    "<br><br>\n",
    "\n",
    "--- \n",
    "\n",
    "## Question 3d\n",
    "\n",
    "Based on the structure you see in your plot, does this model seem like it will correspond to _regressive_, _fair_, or _progressive_ taxation?\n"
   ]
  },
  {
   "cell_type": "code",
   "execution_count": 229,
   "metadata": {
    "tags": []
   },
   "outputs": [],
   "source": [
    "q7b = 'regressive'"
   ]
  },
  {
   "cell_type": "code",
   "execution_count": 230,
   "metadata": {
    "deletable": false,
    "editable": false
   },
   "outputs": [
    {
     "data": {
      "text/html": [
       "<p><strong><pre style='display: inline;'>q3d</pre></strong> passed!</p>"
      ],
      "text/plain": [
       "q3d results: All test cases passed!"
      ]
     },
     "execution_count": 230,
     "metadata": {},
     "output_type": "execute_result"
    }
   ],
   "source": [
    "grader.check(\"q3d\")"
   ]
  },
  {
   "cell_type": "markdown",
   "metadata": {},
   "source": [
    "While our simple model explains some of the variability in price, there is certainly still a lot of room for improvement to be made -- one reason is we have been only utilizing 1 or 2 features (out of a total of 70+) so far! Can you engineer and incoporate more features to improve the model's fairness and accuracy? We won't be asking you to provide your answers here, but this would be important going into the next part (also last part, wohoo!) of this project."
   ]
  },
  {
   "cell_type": "markdown",
   "metadata": {},
   "source": [
    "<br><br>\n",
    "\n",
    "<hr style=\"border: 1px solid #fdb515;\" />\n",
    "\n",
    "## Question 4\n",
    "\n",
    "It is time to build your own model!\n",
    "\n",
    "To evaluate your model, we will start by defining a linear regression model. Then, we will process training data using your `process_data_fm` function (you will define this in 4e), fit the model with this training data, and compute the training RMSE. Then, we will process test data with your `process_data_fm`, use the model to predict `Log Sale Price` for the test data, transform the predicted and original log values back into their original forms (by using `delog`), and compute the test RMSE.\n",
    "\n",
    "\n",
    "### Grading Scheme\n",
    "\n",
    "Your grade for Question 4 will be based on your training RMSE and contest **test** RMSE (note that this is another test set, separate from our existing test set!). The thresholds are as follows:\n",
    "\n",
    "Points | 3 | 2 | 1 | 0\n",
    "--- | --- | --- | --- | ---\n",
    "Training RMSE | Less than 200k | [200k, 240k) | [240k, 280k) | More than 280k\n",
    "\n",
    "Points | 3 | 2 | 1 | 0\n",
    "--- | --- | --- | --- | ---\n",
    "Test RMSE | Less than 240k | [240k, 280k) | [280k, 300k) | More than 300k\n"
   ]
  },
  {
   "cell_type": "markdown",
   "metadata": {},
   "source": [
    "<br><br>\n",
    "\n",
    "---\n",
    "## Question 4a Couple notes\n",
    "\n",
    "- **If you are running into memory issues, restart kernel and only run the cells you need to.** The cell below (question cell) contains most to all of the imports necessary to successfully complete this portion of the project, so it can be completed (almost) independently code-wise from the remainder of the project. The autograder will have more than 4 GB memory, so you will not lose credit as long as your solution to Question 4 is within the total memory (4GB) limits of DataHub. Alternatively, you can delete variables you are not using through `del` or `%reset -f`. For example, this will free up memory from data used for older models: `del training_val_data, test_data, train, validation, X_train_m1, X_valid_m1, X_train_m2, X_valid_m1`. Our staff solution can be run independently from all other questions, so we encourage you to do the same to make debugging easier. Note: If you need these data again after deleting the variables or reseting, you must reload them again. In addition, you must comment them out before submitting.\n",
    "- You will be predicting `Log Sale price` on the data stored in `cook_county_contest_test.csv`. We will delog/exponentiate your prediction on Gradescope to compute RMSE and use this to score your model. Before submitting to Gradescope, make sure that your predicted values can all be delogged (i.e. if the value is 100, it is too large - $e^{100}$ is too big!)\n",
    "- You **MUST remove any additional new cells you add before submitting to Gradescope** to avoid any autograder errors. \n",
    "- You could only submit the csv file to gradescope up to **3 times** per day. Start early!\n",
    "\n",
    "**Please read the above message carefully. No response is required for this question.**"
   ]
  },
  {
   "cell_type": "code",
   "execution_count": 231,
   "metadata": {},
   "outputs": [],
   "source": [
    "# Uncomment the line below to clean up memory from previous questions and reinitialize Otter!\n",
    "# MAKE SURE TO COMMENT THE NEXT 3 LINES OUT BEFORE SUBMITTING!\n",
    "# %reset -f\n",
    "# del training_val_data, test_data, train, validation, X_train_m1, X_valid_m1, X_train_m2, X_valid_m2\n",
    "# import otter\n",
    "# grader = otter.Notebook(\"projA2.ipynb\")\n",
    "\n",
    "import numpy as np\n",
    "import pandas as pd\n",
    "from pandas.api.types import CategoricalDtype\n",
    "\n",
    "%matplotlib inline\n",
    "import matplotlib.pyplot as plt\n",
    "import seaborn as sns\n",
    "from sklearn import linear_model as lm\n",
    "\n",
    "import warnings\n",
    "warnings.filterwarnings(\"ignore\")\n",
    "\n",
    "import zipfile\n",
    "import os\n",
    "\n",
    "from ds100_utils import *\n",
    "from feature_func import *\n",
    "\n",
    "from sklearn.preprocessing import OneHotEncoder"
   ]
  },
  {
   "cell_type": "markdown",
   "metadata": {},
   "source": [
    "<br><br>\n",
    "\n",
    "---\n",
    "\n",
    "## Question 4b Finding Potential Features\n",
    "\n",
    "**This question is not graded.** Read the documentation about the dataset in `codebook.txt`. Is there any data you think that may be related to housing price? Drop them down below for your later reference."
   ]
  },
  {
   "cell_type": "markdown",
   "metadata": {},
   "source": [
    "_Type your answer here, replacing this text._"
   ]
  },
  {
   "cell_type": "markdown",
   "metadata": {
    "tags": []
   },
   "source": [
    "<br><br>\n",
    "\n",
    "---\n",
    "\n",
    "## Question 4c More EDA\n",
    "\n",
    "\n",
    "**This question is not graded.** Use the scratch space below to conduct any additional EDA you would like to see. You may use this space to make additional plots to help you visualize the relationship between any variables or compute any relevant statistics. You are free to add any number of cells as needed below and before the next question. You may find it helpful to review Project A1 and techniques we explore there.\n",
    "\n",
    "\n",
    "<details>\n",
    "    <summary>[<b>Click to Expand</b>] Some potential ideas. </summary>\n",
    "    \n",
    "* Plot the distribution of a varaible. Is this varaible heavily skewed? Are there any outliers?\n",
    "\n",
    "* Make a scatter plot between a continous feature and the outcome. Is there a relationship? Is there a transformation that may linearize the relationship?\n",
    "\n",
    "* Make a plot of a categorical/discrete feature and the outcome. Is there a relationship? How can we transformation this categorical data into numerical features that can be useful for OLS?\n",
    "\n",
    "* Find the correlation coefficient between features and the outcome. Is there a strong relationship between the two? Can you find the correlation coefficient between different transformations of the feature and the outcome?\n",
    "\n",
    "</details>"
   ]
  },
  {
   "cell_type": "code",
   "execution_count": 232,
   "metadata": {
    "tags": []
   },
   "outputs": [
    {
     "data": {
      "application/vnd.jupyter.widget-view+json": {
       "model_id": "e30a1c0c1f024cd8b7e1f3109b4ab6c6",
       "version_major": 2,
       "version_minor": 0
      },
      "text/plain": [
       "interactive(children=(Dropdown(description='cat_var', index=7, options=('Unnamed: 0', 'PIN', 'Property Class',…"
      ]
     },
     "metadata": {},
     "output_type": "display_data"
    }
   ],
   "source": [
    "# Add any EDA code below\n",
    "import ipywidgets as widgets\n",
    "from ipywidgets import interact, interactive, fixed, interact_manual\n",
    "\n",
    "full_data_1 = full_data.copy()\n",
    "full_data_1 = full_data_1[(full_data_1['Sale Price'] >= 500) & (full_data_1['Estimate (Building)'] >= 500) & (full_data_1['Estimate (Land)'] >= 500)]\n",
    "full_data_1['Log Sale Price'] = np.log(full_data_1['Sale Price'])\n",
    "full_data_1['Tranformed Neighboorhood Code'] = np.log(full_data_1['Neighborhood Code'])\n",
    "\n",
    "full_data_1['Age Inverse'] = (100/(full_data_1['Age']))**2\n",
    "\n",
    "full_data_1['Log Building Square Feet'] = np.log(full_data_1['Building Square Feet'])\n",
    "full_data_1['Log Estimate(Building)'] = np.log(full_data_1['Estimate (Building)'])\n",
    "full_data_1['Log Land Square Feet'] = np.log(full_data_1['Land Square Feet'])\n",
    "full_data_1['Log Estimate(Land)'] = np.log(full_data_1['Estimate (Land)'])\n",
    "full_data_1['Log Lot Size'] = (full_data_1['Lot Size'])**(1/6)\n",
    "full_data_1['Log Lot Size log lot size'] = np.log(full_data_1['Lot Size'])*np.log(full_data_1['Lot Size'])\n",
    "\n",
    "full_data_1['Log Lan Square'] = np.log(full_data_1['Land Square Feet'])*np.log(full_data_1['Land Square Feet'])\n",
    "\n",
    "\n",
    "#Define function to plot boxplots\n",
    "def plot_boxplot(categorial_var):\n",
    "    sns.boxplot(data = full_data_1, x= categorial_var, y= 'Log Sale Price')\n",
    "    \n",
    "#interactive boxplots    \n",
    "dropdown1 = widgets.Dropdown(\n",
    "    options = full_data_1.columns.values,\n",
    "    value = 'Wall Material',\n",
    "    description = 'cat_var'\n",
    ")\n",
    "\n",
    "\n",
    "interact(plot_boxplot, categorial_var = dropdown1);"
   ]
  },
  {
   "cell_type": "code",
   "execution_count": 233,
   "metadata": {
    "tags": []
   },
   "outputs": [
    {
     "data": {
      "application/vnd.jupyter.widget-view+json": {
       "model_id": "2a34bdf03ac94e1cbab14783e280bbe5",
       "version_major": 2,
       "version_minor": 0
      },
      "text/plain": [
       "interactive(children=(Dropdown(description='var', index=63, options=('Unnamed: 0', 'PIN', 'Property Class', 'N…"
      ]
     },
     "metadata": {},
     "output_type": "display_data"
    }
   ],
   "source": [
    "# Add any EDA code below\n",
    "#Plot Distribution\n",
    "\n",
    "def plot_distribution(label):\n",
    "    fig, axs = plt.subplots(nrows=2)\n",
    "\n",
    "    sns.distplot(\n",
    "        full_data_1[label], \n",
    "        ax=axs[0]\n",
    "    )\n",
    "    sns.boxplot(\n",
    "        full_data_1[label],\n",
    "        width=0.3, \n",
    "        ax=axs[1],\n",
    "        showfliers=False,\n",
    "    )\n",
    "\n",
    "    # Align axes\n",
    "    spacer = np.max(full_data_1[label]) * 0.05\n",
    "    xmin = np.min(full_data_1[label]) - spacer\n",
    "    xmax = np.max(full_data_1[label]) + spacer\n",
    "    axs[0].set_xlim((xmin, xmax))\n",
    "    axs[1].set_xlim((xmin, xmax))\n",
    "\n",
    "    # Remove some axis text\n",
    "    axs[0].xaxis.set_visible(False)\n",
    "    axs[0].yaxis.set_visible(False)\n",
    "    axs[1].yaxis.set_visible(False)\n",
    "\n",
    "    # Put the two plots together\n",
    "    plt.subplots_adjust(hspace=0)\n",
    "    fig.suptitle(\"Distribution of \" + label)\n",
    "    return full_data_1[label].describe()\n",
    "    \n",
    "dropdown2 = widgets.Dropdown(\n",
    "    options = full_data_1.columns.values,\n",
    "    value = 'Log Sale Price',\n",
    "    description = 'var'\n",
    ")    \n",
    "interact(plot_distribution, label = dropdown2);\n",
    "    "
   ]
  },
  {
   "cell_type": "code",
   "execution_count": 234,
   "metadata": {
    "tags": []
   },
   "outputs": [
    {
     "data": {
      "application/vnd.jupyter.widget-view+json": {
       "model_id": "26442f979f984158be27cb82d83d03a2",
       "version_major": 2,
       "version_minor": 0
      },
      "text/plain": [
       "interactive(children=(Dropdown(description='num_var', index=31, options=('Unnamed: 0', 'PIN', 'Property Class'…"
      ]
     },
     "metadata": {},
     "output_type": "display_data"
    }
   ],
   "source": [
    "# Add any EDA code below\n",
    "def plot_jointplot(num_var):\n",
    "    sns.jointplot(data=full_data_1, x=num_var, y='Log Sale Price')\n",
    "    \n",
    "dropdown3 = widgets.Dropdown(\n",
    "    options = full_data_1.columns.values,\n",
    "    value = 'Building Square Feet',\n",
    "    description = 'num_var'\n",
    ")   \n",
    "interact(plot_jointplot, num_var = dropdown3);"
   ]
  },
  {
   "cell_type": "code",
   "execution_count": 235,
   "metadata": {
    "tags": []
   },
   "outputs": [],
   "source": [
    "# Add any EDA code below\n",
    "# full_data_1"
   ]
  },
  {
   "cell_type": "code",
   "execution_count": 236,
   "metadata": {
    "tags": []
   },
   "outputs": [],
   "source": [
    "# Add any EDA code below"
   ]
  },
  {
   "cell_type": "markdown",
   "metadata": {},
   "source": [
    "<br><br>\n",
    "\n",
    "---\n",
    "\n",
    "## Question 4d Defining Helper Function or Helper Variables\n",
    "\n",
    "**This question is not graded but we suggest that you put all your helper functions below for readability and ease of testing.** Use this space below to define any additional helper functions you may use in your final model They can be a transfromation function you identified in the optional question above. "
   ]
  },
  {
   "cell_type": "code",
   "execution_count": 261,
   "metadata": {
    "tags": []
   },
   "outputs": [],
   "source": [
    "# Define any additional helper functions or varaibles you need here\n",
    "\n",
    "#One Hot Coder Function Helper\n",
    "def one_hot_encoder(data, cat):\n",
    "    \"\"\"\n",
    "    Return the one-hot encoded dataframe of our input data, removing redundancies.\n",
    "    \n",
    "    Parameters\n",
    "    -----------\n",
    "    data: a dataframe that may include non-numerical features\n",
    "    cat: a list of categorial variables' names\n",
    "    \n",
    "    Returns\n",
    "    -----------\n",
    "    A one-hot encoded dataframe.\n",
    "    \n",
    "    \"\"\"\n",
    "    oh_enc = OneHotEncoder()\n",
    "    cat_data = oh_enc.fit(data[cat]).transform(data[cat]).toarray()\n",
    "    cat_df = pd.DataFrame(data = cat_data, columns= oh_enc.get_feature_names_out(), index=data.index)\n",
    "    data = data.join(cat_df).drop(columns = cat)\n",
    "    \n",
    "    return data\n"
   ]
  },
  {
   "cell_type": "markdown",
   "metadata": {},
   "source": [
    "<br><br>\n",
    "\n",
    "---\n",
    "\n",
    "## Question 4e Defining Pipeline Funtion\n",
    "\n",
    "Just as in the guided model from the previous question, you should encapsulate as much of your workflow into functions as possible. Your job is to select better features and define your own feature engineering pipeline inside the function `process_data_fm` in the following cell. Use of `.pipe` is not required, but you are welcome to incorporate it! **You must not change the parameters inside `process_data_fm`. Do not edit the two lines at the end of the question cell below. They are helper function that defined a linear model, fit your data, and compute RMSE. If you do, you will receive no credit for this question.** \n",
    "\n",
    "\n",
    "<details>\n",
    "    <summary>[<b>Click to Expand</b>] Hints: </summary>\n",
    "    \n",
    "* Some features may have missing values in the test set but not in the training/validation set. Make sure `process_data_fm` handles missing values appropriately for each feature!\n",
    "    \n",
    "</details>\n"
   ]
  },
  {
   "cell_type": "code",
   "execution_count": 255,
   "metadata": {
    "tags": []
   },
   "outputs": [
    {
     "name": "stdout",
     "output_type": "stream",
     "text": [
      "Current training RMSE: 114006.06354211939\n"
     ]
    }
   ],
   "source": [
    "\n",
    "# Please include all of your feature engineering process inside this function.\n",
    "# Do not modify the parameters of this function.\n",
    "\n",
    "\n",
    "\n",
    "    \n",
    "\n",
    "# def process_data_fm(data, is_test_set=False):\n",
    "\n",
    "#     data = add_total_bedrooms(data)\n",
    "\n",
    "#     data['Inverse Age'] = (100.0 / data['Age'] ) ** 4\n",
    "\n",
    "#     if not is_test_set:    \n",
    "        \n",
    "#         #print(data['Sale Price'].quantile(0.25))\n",
    "#         data = remove_outliers(data, 'Sale Price', lower = 150000, upper = 600000)\n",
    "\n",
    "#         y= np.log(data['Sale Price'])\n",
    "\n",
    "#         data = select_columns(data, 'Sq Lot Size', 'Sq Bedroom', 'Land Square Feet', 'Sq Most Recent Sale', 'Building Square Feet', 'Site Desirability', 'Neighborhood Code')\n",
    "#         return data, y\n",
    "#     else:\n",
    "#         data = select_columns(data, 'Sq Lot Size', 'Sq Bedroom', 'Land Square Feet', 'Sq Most Recent Sale', 'Building Square Feet', 'Site Desirability', 'Neighborhood Code')\n",
    "#         return data\n",
    "\n",
    "def process_data_fm(data, is_test_set=False):\n",
    "\n",
    "    data.replace([np.inf, -np.inf], np.nan).fillna(0)\n",
    "    for col in ['Building Square Feet', 'Estimate (Building)', 'Estimate (Land)', 'Lot Size', 'Land Square Feet']:\n",
    "        data[col] = data[col].replace(0, 0.0001)\n",
    "    \n",
    "    data = add_total_bedrooms(data)\n",
    "    \n",
    "    data['Inverse Age'] = (100.0 / data['Age'] ) ** 4\n",
    "    #log transform on chosen columns\n",
    "    for col in ['Building Square Feet', 'Estimate (Building)', 'Estimate (Land)', 'Lot Size', 'Land Square Feet']:\n",
    "        data = log_transform(data, col)\n",
    "    \n",
    "    if not is_test_set:    \n",
    "        data = remove_outliers(data, 'Sale Price', lower = 510, upper = 700000)\n",
    "        # data = remove_outliers(data, 'Estimate (Building)', lower = 510, upper = 810000)\n",
    "        \n",
    "\n",
    "        y= np.log(data['Sale Price'])\n",
    "\n",
    "        data = select_columns(data, 'Log Lot Size', 'Bedrooms', 'Log Land Square Feet', \\\n",
    "                              'Most Recent Sale', 'Log Building Square Feet', \\\n",
    "                              'Site Desirability', \\\n",
    "                             'Log Estimate (Building)', 'Log Estimate (Land)',\\\n",
    "                             'Wall Material', 'Central Air','Fireplaces',\\\n",
    "                             \"O'Hare Noise\", 'Property Class')\n",
    "        X = one_hot_encoder(data, ['Wall Material', 'Central Air',\\\n",
    "                             \"O'Hare Noise\", 'Property Class']) \\\n",
    "                            .drop(columns=[\"O'Hare Noise_1.0\", 'Property Class_203', 'Property Class_206','Property Class_208','Property Class_209'])\n",
    "        return X, y\n",
    "    else:\n",
    "        data = select_columns(data, 'Log Lot Size', 'Bedrooms', 'Log Land Square Feet', \\\n",
    "                              'Most Recent Sale', 'Log Building Square Feet', \\\n",
    "                              'Site Desirability', \\\n",
    "                             'Log Estimate (Building)', 'Log Estimate (Land)',\\\n",
    "                             'Wall Material', 'Central Air','Fireplaces',\\\n",
    "                             \"O'Hare Noise\", 'Property Class')\n",
    "        X = one_hot_encoder(data, ['Wall Material', 'Central Air',\\\n",
    "                             \"O'Hare Noise\", 'Property Class']) \\\n",
    "                            .drop(columns=[\"O'Hare Noise_1.0\", 'Property Class_203', 'Property Class_206','Property Class_208','Property Class_209'])\n",
    "        return X\n",
    "    \n",
    "# process_data_fm(full_data_1)\n",
    "# DO NOT EDIT THESE TWO LINES!\n",
    "check_rmse_threshold = run_linear_regression_test_optim(lm.LinearRegression(fit_intercept=True), process_data_fm, 'cook_county_train.csv', None, False)\n",
    "print(\"Current training RMSE:\", check_rmse_threshold.loss)"
   ]
  },
  {
   "cell_type": "code",
   "execution_count": 239,
   "metadata": {
    "deletable": false,
    "editable": false
   },
   "outputs": [
    {
     "data": {
      "text/html": [
       "<p><strong><pre style='display: inline;'>q4e</pre></strong> passed!</p>"
      ],
      "text/plain": [
       "q4e results: All test cases passed!"
      ]
     },
     "execution_count": 239,
     "metadata": {},
     "output_type": "execute_result"
    }
   ],
   "source": [
    "grader.check(\"q4e\")"
   ]
  },
  {
   "cell_type": "markdown",
   "metadata": {},
   "source": [
    "<br><br>\n",
    "\n",
    "---\n",
    "\n",
    "## Question 4f Fit and Evaluate your Model\n",
    "\n",
    "**This question is not graded.** Use this space below to evalute your models. Some ideas are listed below. \n",
    "\n",
    "**Note:** While we have grader function that checks RMSE for you, it is best to define create your own model object and fit on your data. This way, you have access to the model directly to help you evaluate/debug if needed. For this project, you should use a sklearn default `LinearRegression()` model with intercept term for grading purposes. Do not modify any hyperparameter in `LinearRegression()`, and focus on feature selection or hyperpameters of your own feature engineering function.\n",
    "\n",
    "\n",
    "<details>\n",
    "    <summary>[<b>Click to Expand</b>] Hints: </summary>\n",
    "    \n",
    "Train set:\n",
    "\n",
    "* Check your test RMSE. Is this a reasonable number? You may use our grading scheme as reference. Keep in mind that training error is generally less than testing error. \n",
    "\n",
    "Test set:\n",
    "* Find the original data shape at the begining of the notebook (in the provided assert statement). What should the output shape be?\n",
    "\n",
    "* Since test and training/validation sets comes from the same population (recall that test and training/validation sets are a random split from a larger data), we expect our test prediction to have a similar range as the training data. Plot the observed training (Log) Sale Price and the predicted (Log) Sale Price. Are the ranges similar? Do you have any unreasonable extreme prediction that cannot be exponentiated?\n",
    "\n",
    "* We cannot compute test RMSE directly since we do not have the observed values. Perform a holdout-test or cross validation (on training/validation sets) to estimate your test error. Recall that we are treating validation set as unseen data.\n",
    "    \n",
    "</details>"
   ]
  },
  {
   "cell_type": "code",
   "execution_count": 256,
   "metadata": {
    "tags": []
   },
   "outputs": [
    {
     "data": {
      "text/plain": [
       "['Log Lot Size',\n",
       " 'Bedrooms',\n",
       " 'Log Land Square Feet',\n",
       " 'Most Recent Sale',\n",
       " 'Log Building Square Feet',\n",
       " 'Site Desirability',\n",
       " 'Log Estimate (Building)',\n",
       " 'Log Estimate (Land)',\n",
       " 'Fireplaces',\n",
       " 'Wall Material_1.0',\n",
       " 'Wall Material_2.0',\n",
       " 'Wall Material_3.0',\n",
       " 'Wall Material_4.0',\n",
       " 'Central Air_0.0',\n",
       " 'Central Air_1.0',\n",
       " \"O'Hare Noise_0.0\",\n",
       " 'Property Class_202',\n",
       " 'Property Class_204',\n",
       " 'Property Class_205',\n",
       " 'Property Class_207',\n",
       " 'Property Class_278']"
      ]
     },
     "metadata": {},
     "output_type": "display_data"
    },
    {
     "data": {
      "text/plain": [
       "19122     10.730947\n",
       "135233    12.815838\n",
       "44277     12.182292\n",
       "157057    13.262125\n",
       "9238      12.834681\n",
       "Name: Sale Price, dtype: float64"
      ]
     },
     "metadata": {},
     "output_type": "display_data"
    },
    {
     "name": "stdout",
     "output_type": "stream",
     "text": [
      "Training RMSE: 113889.05921172196\n",
      "Holdout RMSE: 261271.71327518483\n"
     ]
    }
   ],
   "source": [
    "# Use this space to evaluate your model\n",
    "# if you reset your memory, you need to define the functions again\n",
    "# data = pd.read_csv('cook_county_train.csv')\n",
    "from sklearn.model_selection import train_test_split\n",
    "np.random.seed(45)\n",
    "\n",
    "# training_val_data['Log Sale Price'] = np.log(training_val_data['Sale Price'])\n",
    "# X = training_val_data.drop(columns=['Sale Price', 'Log Sale Price'])\n",
    "# Y = training_val_data['Log Sale Price']\n",
    "\n",
    "# X_train, X_holdout, Y_train, Y_holdout = train_test_split(X, Y, test_size = 0.1)\n",
    "\n",
    "linear_model_final = lm.LinearRegression()\n",
    "# # Fit your linear model\n",
    "# linear_model.fit(X_train, Y_train)\n",
    "train_final, valid_final = train_val_split(training_val_data)\n",
    "training_val_data\n",
    "X_train_final, y_train_final = process_data_fm(train_final, False)\n",
    "X_valid_final= process_data_fm(valid_final, True)\n",
    "y_valid_final = np.log(valid_final['Sale Price'])\n",
    "\n",
    "# Take a look at the result\n",
    "display(list(X_train_final.columns))\n",
    "display(y_train_final.head())\n",
    "\n",
    "# Fit the model\n",
    "linear_model_final.fit(X_train_final, y_train_final)\n",
    "# Compute the fitted and predicted values of Log Sale Price for the model\n",
    "y_fitted_final = linear_model_final.predict(X_train_final) \n",
    "y_predicted_final = linear_model_final.predict(X_valid_final)\n",
    "\n",
    "# Training and validation errors for the 1st model\n",
    "train_error_final = rmse(y_fitted_final, y_train_final)\n",
    "valid_error_final = rmse(y_predicted_final, y_valid_final)\n",
    "\n",
    "# Training and validation errors for the 1st model (in its original values before the log transform)\n",
    "train_error_final_delog = rmse(np.exp(y_fitted_final), np.exp(y_train_final))\n",
    "valid_error_final_delog = rmse(np.exp(y_predicted_final), np.exp(y_valid_final))\n",
    "\n",
    "print(\"Training RMSE:\", train_error_final_delog)\n",
    "print(\"Holdout RMSE:\", valid_error_final_delog)\n",
    "# Y_train, Y_holdout\n",
    "# training_val_data\n",
    "\n",
    "# Parameters from 2nd model\n",
    "# theta0_final = linear_model_final.intercept_\n",
    "# theta1_m2, theta2_final = linear_model_final.coef_\n",
    "\n",
    "# print(\"1st Model\\nθ_0: {}\\nθ_1: {}\".format(theta0_m1, theta1_m1))\n",
    "# print(\"2nd Model\\nθ_0: {}\\nθ_1: {}\\nθ_2: {}\".format(theta0_m2, theta1_m2, theta2_m2))"
   ]
  },
  {
   "cell_type": "markdown",
   "metadata": {},
   "source": [
    "<br><br>\n",
    "\n",
    "---\n",
    "\n",
    "## Question 4g Model Selection\n",
    "\n",
    "**This question is not graded.** Consider using hold-out method or k-fold cross validation to select your best model.\n",
    "\n",
    "**Note:**\n",
    "\n",
    "* You may go back to previous parts and update your answer depending on what you find here.\n",
    "\n",
    "* Avoid random guessing. Make an educated guess on what features to include, what transformation to use using what you learn so far in class. Modify your 4a, 4b, and 4c, if needed.\n",
    "    \n",
    "* Document your models and their corresponding RMSEs. Save any model that you may want to keep - it can be a comment, a separate function, a separate file of your choice, or checkpoint your notebook. Jupyter notebook generally does not have a well-documented change log. After you delete your code, it is difficult to recover it.\n",
    "\n",
    "* This process can be long and tedious, as is the data analytics task in real world. Take a break or come to OH, if you are stuck!\n",
    "    \n",
    "<details>\n",
    "    <summary>[<b>Click to Expand</b>] Hints and ideas. </summary>\n",
    "\n",
    "* How can you tell if the model is overfitting? Underfitting?\n",
    "\n",
    "* If you are using the function `remove_outliers`, you may treat your `upper` and `lower` parameters as model hyperparameters. How can we use cross validation or holdout method to choose the best cutoff?\n",
    "    \n",
    "* If you are choosing how many features to keep, consider reviewing and reusing the idea from Lab 8.\n",
    "    \n",
    "</details>"
   ]
  },
  {
   "cell_type": "code",
   "execution_count": null,
   "metadata": {},
   "outputs": [
    {
     "data": {
      "text/plain": [
       "array([-8.68795590e-02, -3.19564681e-03, -1.41274390e-02,  3.27811026e-01,\n",
       "        5.39543386e-01,  2.31982821e-02,  6.52755553e-01, -8.96549685e-02,\n",
       "        1.01593496e-02, -1.70528780e-02,  7.04003688e-02, -2.30386765e-01,\n",
       "        8.96584256e-16, -8.52396401e-02,  0.00000000e+00,  0.00000000e+00,\n",
       "       -0.00000000e+00,  0.00000000e+00, -0.00000000e+00, -1.77166159e-01,\n",
       "        0.00000000e+00, -0.00000000e+00,  0.00000000e+00, -0.00000000e+00,\n",
       "       -0.00000000e+00,  0.00000000e+00, -0.00000000e+00, -9.84420924e-02,\n",
       "       -0.00000000e+00, -2.60618351e-02,  1.67978848e-02, -0.00000000e+00,\n",
       "        1.64505392e-02, -0.00000000e+00, -0.00000000e+00,  3.74430144e-02])"
      ]
     },
     "execution_count": 159,
     "metadata": {},
     "output_type": "execute_result"
    }
   ],
   "source": [
    "# Use this space to test different models.\n",
    "#using regularization, choose parameter alpha\n",
    "#Extre cells, about to delete\n",
    "from sklearn.linear_model import Lasso\n",
    "# from sklearn.preprocessing import StandardScaler\n",
    "# ss = StandardScaler()\n",
    "# ss.fit(X_train_final)\n",
    "# X_train_scaled = pd.DataFrame(ss.transform(X_train_final), \\\n",
    "#                                                  columns = X_train_final.columns)\n",
    "\n",
    "np.random.seed(45)\n",
    "train_final_lasso, valid_final_lasso = train_val_split(training_val_data)\n",
    "\n",
    "X_train_final_lasso, y_train_final_lasso = process_data_fm(train_final_lasso, False)\n",
    "X_valid_final_lasso= process_data_fm(valid_final_lasso, True)\n",
    "y_valid_final_lasso = valid_final_lasso['Log Sale Price']\n",
    "\n",
    "# X_train_scaled\n",
    "regularized_model = Lasso(alpha = 0.002031)\n",
    "regularized_model.fit(X_train_final_lasso, y_train_final_lasso)\n",
    "regularized_model.coef_\n",
    "# regularized_model_standardized.predict(X_train_scaled)\n",
    "\n",
    "# def process_data_fm_reg(data, is_test_set=False, a=0):\n",
    "\n",
    "#     data.replace([np.inf, -np.inf], np.nan).fillna(0)\n",
    "#     for col in ['Building Square Feet', 'Estimate (Building)', 'Estimate (Land)', 'Lot Size', 'Land Square Feet']:\n",
    "#         data[col] = data[col].replace(0, 0.0001)\n",
    "    \n",
    "#     data = add_total_bedrooms(data)\n",
    "#     data['Inverse Age'] = (100.0 / data['Age'] ) ** 4\n",
    "#     #log transform on chosen columns\n",
    "#     for col in ['Building Square Feet', 'Estimate (Building)', 'Estimate (Land)', 'Lot Size', 'Land Square Feet']:\n",
    "#         data = log_transform(data, col)\n",
    "\n",
    "    \n",
    "#     if not is_test_set:    \n",
    "#         data = remove_outliers(data, 'Sale Price', lower = 510, upper = 700000)\n",
    "        \n",
    "\n",
    "#         X = select_columns(data, 'Log Lot Size', 'Bedrooms', 'Log Land Square Feet', \\\n",
    "#                               'Most Recent Sale', 'Log Building Square Feet', \\\n",
    "#                               'Site Desirability', \\\n",
    "#                              'Log Estimate (Building)', 'Log Estimate (Land)')\n",
    "#         regularized_model = Ridge(alpha = 10**-5)\n",
    "#         regularized_model.fit(X, np.log(data['Sale Price']))\n",
    "#         y = regularized_model.predict(X)\n",
    "#         return X, y\n",
    "#     else:\n",
    "#         X = select_columns(data, 'Log Lot Size', 'Bedrooms', 'Log Land Square Feet', \\\n",
    "#                               'Most Recent Sale', 'Log Building Square Feet', \\\n",
    "#                               'Site Desirability',\\\n",
    "#                              'Log Estimate (Building)', 'Log Estimate (Land)')\n",
    "#         return X\n",
    "    \n",
    "# # Fit the model\n",
    "# linear_model_final.fit(X_train_final, y_train_final)\n",
    "# # Compute the fitted and predicted values of Log Sale Price for the model\n",
    "# y_fitted_final = linear_model_final.predict(X_train_final) \n",
    "# y_predicted_final = linear_model_final.predict(X_valid_final)\n",
    "\n",
    "# # Training and validation errors for the 1st model\n",
    "# train_error_final = rmse(y_fitted_final, y_train_final)\n",
    "# valid_error_final = rmse(y_predicted_final, y_valid_final)\n",
    "\n",
    "# # Training and validation errors for the 1st model (in its original values before the log transform)\n",
    "# train_error_final_delog = rmse(np.exp(y_fitted_final), np.exp(y_train_final))\n",
    "# valid_error_final_delog = rmse(np.exp(y_predicted_final), np.exp(y_valid_final))\n",
    "\n",
    "# error_vs_lambda = pd.DataFrame(columns = [\"lambda\", \"Training Error\", \"Holdout Error\"])\n",
    "# range_of_lambda = 10**np.linspace(-5, 4, 40)\n",
    "# for lamb in range_of_lambda:\n",
    "#     regularized_model_lambda = Lasso(alpha = lamb)\n",
    "#     regularized_model_lambda.fit(X_train_final_lasso, y_train_final_lasso)\n",
    "#     train_error_overfit = rmse(np.exp(regularized_model_lambda.predict(X_train_final_lasso)), np.exp(y_train_final_lasso))                       \n",
    "#     holdout_error_overfit = rmse(np.exp(regularized_model_lambda.predict(X_valid_final_lasso)), np.exp(y_valid_final_lasso))\n",
    "#     error_vs_lambda.loc[len(error_vs_lambda)] = [lamb, train_error_overfit, holdout_error_overfit]\n",
    "\n",
    "# error_vs_lambda\n",
    "# best_lambda = 0.002031\n"
   ]
  },
  {
   "cell_type": "markdown",
   "metadata": {},
   "source": [
    "<br><br>\n",
    "\n",
    "---\n",
    "\n",
    "## Question 4h Submission\n",
    "To determine the error on the test set, please submit your predictions on the contest test set to the Gradescope assignment: **Project A2 Test Set Predictions**. The CSV file to submit is generated below and you should not modify the cell below. Simply download the CSV file and submit it to the appropriate Gradescope assignment.\n",
    "\n",
    "Note that **you will not receive credit for the test set predictions (i.e. up to 3 points) unless you submit to this assignment**!"
   ]
  },
  {
   "cell_type": "code",
   "execution_count": 259,
   "metadata": {},
   "outputs": [
    {
     "data": {
      "text/html": [
       "Download your test prediction <a href='submission_20230323_022305.csv' download>here</a>."
      ],
      "text/plain": [
       "<IPython.core.display.HTML object>"
      ]
     },
     "metadata": {},
     "output_type": "display_data"
    },
    {
     "name": "stdout",
     "output_type": "stream",
     "text": [
      "You may now upload this CSV file to Gradescope for scoring.\n"
     ]
    }
   ],
   "source": [
    "from datetime import datetime\n",
    "from IPython.display import display, HTML\n",
    "\n",
    "Y_test_pred = run_linear_regression_test(lm.LinearRegression(fit_intercept=True), process_data_fm, None, 'cook_county_train.csv', 'cook_county_contest_test.csv', \n",
    "                                         is_test = True, is_ranking = False, return_predictions = True\n",
    "                                         )\n",
    "\n",
    "# Construct and save the submission:\n",
    "submission_df = pd.DataFrame({\n",
    "    \"Id\": pd.read_csv('cook_county_contest_test.csv')['Unnamed: 0'], \n",
    "    \"Value\": Y_test_pred,\n",
    "}, columns=['Id', 'Value'])\n",
    "timestamp = datetime.now().strftime(\"%Y%m%d_%H%M%S\")\n",
    "filename = \"submission_{}.csv\".format(timestamp)\n",
    "submission_df.to_csv(filename, index=False)\n",
    "\n",
    "#print('Created a CSV file: {}.'.format(\"submission_{}.csv\".format(timestamp)))\n",
    "display(HTML(\"Download your test prediction <a href='\" + filename + \"' download>here</a>.\"))\n",
    "print('You may now upload this CSV file to Gradescope for scoring.')#"
   ]
  },
  {
   "cell_type": "code",
   "execution_count": 260,
   "metadata": {},
   "outputs": [
    {
     "data": {
      "text/plain": [
       "count    55311.000000\n",
       "mean        12.149288\n",
       "std          0.699514\n",
       "min         -1.784132\n",
       "25%         11.671336\n",
       "50%         12.053789\n",
       "75%         12.552859\n",
       "max         16.576575\n",
       "Name: Value, dtype: float64"
      ]
     },
     "execution_count": 260,
     "metadata": {},
     "output_type": "execute_result"
    }
   ],
   "source": [
    "# Scratch space to check if your prediction is reasonable. See 4f for hints. \n",
    "# We will not reset submission count for mis-submission issues.\n",
    "submission_df[\"Value\"].describe()"
   ]
  },
  {
   "cell_type": "markdown",
   "metadata": {},
   "source": [
    "<!-- BEGIN QUESTION -->\n",
    "\n",
    "<br><br>\n",
    "\n",
    "<hr style=\"border: 1px solid #fdb515;\" />\n",
    "\n",
    "## Question 5\n",
    "\n",
    "In building your model in question 4, what different models have you tried? What worked and what did not? Brief discuss your modeling process.\n",
    "\n",
    "Note: We are not looking for a single correct answer. Explain what you did in question 4 and you will get point. "
   ]
  },
  {
   "cell_type": "markdown",
   "metadata": {},
   "source": [
    "First, I chose all the numerical variables that their log transformations seem to have a linear association with log sale price, and hot-encoded all the categorical variables that their side-to-side boxplots also seem to have a linear association. Then, I cross-validated on 9 combinations of lower(500,510,520) and upper bound(710, 700, 690) for the column 'Sale Price' in model, and found out the optimal combination are at lower = 500 and upper = 710. After that, I checked my training and valid errors and saw that my model was overfitting because my training error is much lower than my valid error. So, I used Lasso model for my features selection. To see what is the optimal alpha for my Lasso model, I ran another cross validation on different alpha, and found out the optimal one is 0.002031. Then I checked the coefficient of Lasso model on that optimal hyperparameter alpha to see which features (or columns) I need to remove (coefficient = 0). That is my final model. "
   ]
  },
  {
   "cell_type": "markdown",
   "metadata": {},
   "source": [
    "<!-- END QUESTION -->\n",
    "\n",
    "Congratulations on finishing your prediction model for home sale prices in Cook County! In the following section, we'll delve deeper into the implications of predictive modeling within the CCAO case study - especially because statistical modeling is how the CCAO valuates properties. \n",
    "\n",
    "Refer to Lecture 18 if you're having trouble getting started!"
   ]
  },
  {
   "cell_type": "markdown",
   "metadata": {},
   "source": [
    "<!-- BEGIN QUESTION -->\n",
    "\n",
    "<br><br>\n",
    "\n",
    "<hr style=\"border: 1px solid #fdb515;\" />\n",
    "\n",
    "## Question 6 Evaluating Model in Context\n",
    "\n",
    "<br><br>\n",
    "\n",
    "---\n",
    "\n",
    "## Question 6a\n",
    "\n",
    "When evaluating your model, we used root mean squared error. In the context of estimating the value of houses, what does residual mean for an individual homeowner? How does it affect them in terms of property taxes? Discuss the cases where residual is positive and negative separately."
   ]
  },
  {
   "cell_type": "markdown",
   "metadata": {},
   "source": [
    "The formula for residuals are actual y - predicted y. To homeowners, if the residual is negative, their home is being overvalued, and they have to pay property taxes  more than they are supposed to. On the other hand, if the residual is positive, their home is being undervalued, and they benefit from this by paying less property taxes than they should."
   ]
  },
  {
   "cell_type": "markdown",
   "metadata": {},
   "source": [
    "<!-- END QUESTION -->\n",
    "\n",
    "In the case of the Cook County Assessor’s Office, Chief Data Officer Rob Ross states that fair property tax rates are contingent on whether property values are assessed accurately - that they’re valued at what they’re worth, relative to properties with similar characteristics. This implies that having a more accurate model results in fairer assessments. The goal of the property assessment process for the CCAO, then, is to be as accurate as possible. \n",
    "\n",
    "When the use of algorithms and statistical modeling has real-world consequences, we often refer to the idea of fairness as a measurement of how socially responsible our work is. But fairness is incredibly multifaceted: Is a fair model one that minimizes loss - one that generates accurate results? Is it one that utilizes \"unbiased\" data? Or is fairness a broader goal that takes historical contexts into account?\n",
    "\n",
    "These approaches to fairness are not mutually exclusive. If we look beyond error functions and technical measures of accuracy, we'd not only consider _individual_ cases of fairness, but also what fairness - and justice - means to marginalized communities on a broader scale. We'd ask: What does it mean when homes in predominantly Black and Hispanic communities in Cook County are consistently overvalued, resulting in proportionally higher property taxes? When the white neighborhoods in Cook County are consistently undervalued, resulting in proportionally lower property taxes? \n",
    "\n",
    "Having \"accurate\" predictions doesn't necessarily address larger historical trends and inequities, and fairness in property assessments in taxes works beyond the CCAO's valuation model. Disassociating accurate predictions from a fair system is vital to approaching justice at multiple levels. Take Evanston, IL - a suburb in Cook County - as an example of housing equity beyond just improving a property valuation model: Their City Council members [recently approved reparations for African American residents](https://www.usnews.com/news/health-news/articles/2021-03-23/chicago-suburb-approves-government-reparations-for-black-residents).\n"
   ]
  },
  {
   "cell_type": "markdown",
   "metadata": {},
   "source": [
    "<!-- BEGIN QUESTION -->\n",
    "\n",
    "<br><br>\n",
    "\n",
    "---\n",
    "\n",
    "## Question 6b\n",
    "\n",
    "In your own words, describe how you would define fairness in property assessments and taxes."
   ]
  },
  {
   "cell_type": "markdown",
   "metadata": {},
   "source": [
    "Faireness in property assesments and taxes have to address whether the result will harm marginalized community by preventing regressive taxes over the model's accuracy. It has to take into account the wealth gap between neighborhoods to avoid using any features that could trace back to biased result such as races/ethnicity/ desiribility rate (that is determined by biased historical data)."
   ]
  },
  {
   "cell_type": "markdown",
   "metadata": {},
   "source": [
    "<!-- END QUESTION -->\n",
    "\n",
    "## The CCAO and Transparency"
   ]
  },
  {
   "cell_type": "markdown",
   "metadata": {},
   "source": [
    "Additionally, in their approach to fair property valuations, the CCAO has also pushed for transparency initiatives in the property tax assessment system. After a lawsuit was filed against the CCAO for producing [“racially discriminatory assessments and taxes,\"](https://harris.uchicago.edu/news-events/news/prof-chris-berry-testifies-institutional-racism-cook-county-property-taxes) the Office decided that these inequities would be best addressed by making the assessment process more transparent to Cook County constituents.  \n",
    "\n",
    "These transparency initiatives include publishing all of the CCAO’s work on [GitLab](https://gitlab.com/ccao-data-science---modeling). By allowing the public to access any updates to the system in real-time, the Office argues that they increase accessibility to a process that had previously been blackboxed - obscured and hidden - from the public. Ultimately, the hope is that, by exposing the inner workings of the CCAO’s property valuation process, the CCAO's assessment results could be publicly verified as accurate and therefore trusted to be fair."
   ]
  },
  {
   "cell_type": "markdown",
   "metadata": {},
   "source": [
    "<!-- BEGIN QUESTION -->\n",
    "\n",
    "<br><br>\n",
    "\n",
    "---\n",
    "\n",
    "## Question 6c\n",
    "\n",
    "Take a look at the Residential Automated Valuation Model files under the Models subgroup in the CCAO’s [GitLab](https://gitlab.com/ccao-data-science---modeling). Without directly looking at any code, do you feel that the documentation sufficiently explains how the residential valuation model works? Which part(s) of the documentation might be difficult for nontechnical audiences to understand?\n"
   ]
  },
  {
   "cell_type": "markdown",
   "metadata": {},
   "source": [
    "To some extent, I feel that the documentation gives a general idea of how the algorithm picks the features, and how the valuation process look like. However, this documentation is not sufficently explains to the public because it uses a lot of jargons that is difficult for non-technical audiences to fully understand. For example, sections like \"Model Selection\" and \"Framework Selection\" introduces \"Tidymodels\" or \"LightGBM\" without explaining how they works. If a person who doesn't come from machine learning community, they won't understand these complex vocabularies."
   ]
  },
  {
   "cell_type": "markdown",
   "metadata": {},
   "source": [
    "<!-- END QUESTION -->\n",
    "\n",
    "You might feel that the model's inner workings are beyond your pay grade - it's far more complex than the model you built in this assignment, after all! Though we won't delve further into the role of transparency in the broader CCAO case study, consider its effectiveness and/or ineffectiveness: Is the system truly transparent if it's inaccessible to Cook County constituents? Do transparency measures actually bolster the accuracy of a model - or do they only affect the _perceived_ accuracy of a model? \n",
    "\n",
    "And if you're interested in thinking more about transparency measures, take Data 104! But for now..."
   ]
  },
  {
   "cell_type": "markdown",
   "metadata": {},
   "source": [
    "<br/><br/>\n",
    "<hr style=\"border: 5px solid #003262;\" />\n",
    "<hr style=\"border: 1px solid #fdb515;\" />\n",
    "\n",
    "## Congratulations! You have finished Project A2!\n",
    "\n",
    "Below, you will see two cells. Running the first cell will automatically generate a PDF of all questions that need to be manually graded, and running the second cell will automatically generate a zip with your autograded answers. **You are responsible for both the coding portion (the zip from Project A.2) and the written portion (the PDF with from Project A.2) to their respective Gradescope portals, and checking that they are the most recent copy or the copy you wish to submit (including plots).** The coding proportion should be submitted to Project A.2 Coding as a single zip file, and the written portion should be submitted to Project A.2 Written as a single pdf file. When submitting the written portion, please ensure you select pages appropriately. \n",
    "\n",
    "If there are issues with automatically generating the PDF in the first cell, you can try downloading the notebook as a PDF by clicking on `File -> Save and Export Notebook As... -> PDF`. If that doesn't work either, you can manually take screenshots of your answers to the manually graded questions and submit those. Either way, **you are responsible for ensuring your submission follows our requirements, we will NOT be granting regrade requests for submissions that don't follow instructions.**"
   ]
  },
  {
   "cell_type": "code",
   "execution_count": 41,
   "metadata": {},
   "outputs": [
    {
     "data": {
      "text/html": [
       "Download your PDF <a href='projA2.pdf' download>here</a>."
      ],
      "text/plain": [
       "<IPython.core.display.HTML object>"
      ]
     },
     "metadata": {},
     "output_type": "display_data"
    }
   ],
   "source": [
    "from otter.export import export_notebook\n",
    "from os import path\n",
    "from IPython.display import display, HTML\n",
    "export_notebook(\"projA2.ipynb\", filtering=True, pagebreaks=True)\n",
    "if(path.exists('projA2.pdf')):\n",
    "    display(HTML(\"Download your PDF <a href='projA2.pdf' download>here</a>.\"))\n",
    "else:\n",
    "    print(\"\\n Pdf generation fails, please try the other methods described above\")"
   ]
  },
  {
   "cell_type": "markdown",
   "metadata": {
    "deletable": false,
    "editable": false
   },
   "source": [
    "## Submission\n",
    "\n",
    "Make sure you have run all cells in your notebook in order before running the cell below, so that all images/graphs appear in the output. The cell below will generate a zip file for you to submit. **Please save before exporting!**"
   ]
  },
  {
   "cell_type": "markdown",
   "metadata": {},
   "source": [
    "<div class=\"alert alert-danger\" role=\"alert\">\n",
    "  Please make sure the 3 lines on top of the code cell for question 4a are commented out before you submit.\n",
    "</div>"
   ]
  },
  {
   "cell_type": "code",
   "execution_count": 42,
   "metadata": {
    "deletable": false,
    "editable": false
   },
   "outputs": [
    {
     "data": {
      "text/html": [
       "\n",
       "            <p>Your submission has been exported. Click <a href=\"projA2_2023_03_22T22_01_33_981685.zip\" download=\"projA2_2023_03_22T22_01_33_981685.zip\" target=\"_blank\">here</a>\n",
       "            to download the zip file.</p>\n",
       "            "
      ],
      "text/plain": [
       "<IPython.core.display.HTML object>"
      ]
     },
     "metadata": {},
     "output_type": "display_data"
    }
   ],
   "source": [
    "# Save your notebook first, then run this cell to export your submission.\n",
    "grader.export()"
   ]
  },
  {
   "cell_type": "markdown",
   "metadata": {},
   "source": [
    " "
   ]
  }
 ],
 "metadata": {
  "celltoolbar": "Create Assignment",
  "kernelspec": {
   "display_name": "Python 3 (ipykernel)",
   "language": "python",
   "name": "python3"
  },
  "language_info": {
   "codemirror_mode": {
    "name": "ipython",
    "version": 3
   },
   "file_extension": ".py",
   "mimetype": "text/x-python",
   "name": "python",
   "nbconvert_exporter": "python",
   "pygments_lexer": "ipython3",
   "version": "3.9.0"
  },
  "otter": {
   "OK_FORMAT": true,
   "tests": {
    "q0c": {
     "name": "q0c",
     "points": 1,
     "suites": [
      {
       "cases": [
        {
         "code": ">>> q0c.lower() in ['a', 'b', 'c']\nTrue",
         "hidden": false,
         "locked": false
        }
       ],
       "scored": true,
       "setup": "",
       "teardown": "",
       "type": "doctest"
      }
     ]
    },
    "q1": {
     "name": "q1",
     "points": 2,
     "suites": [
      {
       "cases": [
        {
         "code": ">>> train.shape == (163833, 62) # Train should contain 80% of the data\nTrue",
         "hidden": false,
         "locked": false
        },
        {
         "code": ">>> validation.shape == (40959, 62) # Validation should contain 20% of the data\nTrue",
         "hidden": false,
         "locked": false
        },
        {
         "code": ">>> np.isclose(train[\"Sale Price\"].mean(), 244939.22668204817, atol=0.1) # If this doesn't match, you might have still answered the question, but please adjust your code so that your split matches ours by following the implementation instructions about using shuffled_indices to split the data.\nTrue",
         "hidden": false,
         "locked": false
        },
        {
         "code": ">>> np.allclose(validation.index[-5:], [153946, 117415, 9448, 188605, 3223])\nTrue",
         "hidden": false,
         "locked": false
        },
        {
         "code": ">>> np.isclose(validation[\"Sale Price\"].mean(), 246066.1821089382, atol=0.1) # If this doesn't match, you might have still answered the question, but please adjust your code so that your split matches ours by following the implementation instructions about using shuffled_indices to split the data.\nTrue",
         "hidden": false,
         "locked": false
        }
       ],
       "scored": true,
       "setup": "",
       "teardown": "",
       "type": "doctest"
      }
     ]
    },
    "q2b": {
     "name": "q2b",
     "points": 3,
     "suites": [
      {
       "cases": [
        {
         "code": ">>> (isinstance(X_train_m1, pd.core.frame.DataFrame)) and \\\n... (isinstance(y_train_m1, pd.core.series.Series)) and \\\n... (isinstance(X_valid_m1, pd.core.frame.DataFrame)) and \\\n... (isinstance(y_valid_m1, pd.core.series.Series)) and \\\n... (isinstance(X_train_m2, pd.core.frame.DataFrame)) and \\\n... (isinstance(y_train_m2, pd.core.series.Series)) and \\\n... (isinstance(X_valid_m2, pd.core.frame.DataFrame)) and \\\n... (isinstance(y_valid_m2, pd.core.series.Series))\nTrue",
         "hidden": false,
         "locked": false
        },
        {
         "code": ">>> assert len(m2_pipelines) == 5\n>>> assert log_transform in set([p[0] for p in m2_pipelines])\n",
         "hidden": false,
         "locked": false
        }
       ],
       "scored": true,
       "setup": "",
       "teardown": "",
       "type": "doctest"
      }
     ]
    },
    "q2c": {
     "name": "q2c",
     "points": 2,
     "suites": [
      {
       "cases": [
        {
         "code": ">>> np.isclose(y_fitted_m1.max(), 17.528601849438104, atol=0.0001) == True\nTrue",
         "hidden": false,
         "locked": false
        },
        {
         "code": ">>> np.isclose(y_fitted_m2.max(), 15.614096224439168, atol=0.0001) == True\nTrue",
         "hidden": false,
         "locked": false
        },
        {
         "code": ">>> np.isclose(y_predicted_m1.max(), 15.540922864181525, atol=0.0001) == True\nTrue",
         "hidden": false,
         "locked": false
        },
        {
         "code": ">>> np.isclose(y_predicted_m2.max(), 15.02563963305767, atol=0.0001) == True\nTrue",
         "hidden": false,
         "locked": false
        }
       ],
       "scored": true,
       "setup": "",
       "teardown": "",
       "type": "doctest"
      }
     ]
    },
    "q3a": {
     "name": "q3a",
     "points": 2,
     "suites": [
      {
       "cases": [
        {
         "code": ">>> (training_error_m1 > 0) and (validation_error_m1 > 0) \\\n... and (training_error_m2 > 0) and (validation_error_m2 > 0)== True\nTrue",
         "hidden": false,
         "locked": false
        },
        {
         "code": ">>> np.isclose(training_error_m1, 0.9025651719699077, atol=0.0001) \\\n... and np.isclose(training_error_m2, 0.8042009333446841, atol=0.0001) \\\n... and np.isclose(training_error_m1_delog, 382697.78, atol=0.1) \\\n... and np.isclose(training_error_m2_delog, 325716.40, atol=0.1)\nTrue",
         "hidden": false,
         "locked": false
        }
       ],
       "scored": true,
       "setup": "",
       "teardown": "",
       "type": "doctest"
      }
     ]
    },
    "q3d": {
     "name": "q3d",
     "points": 1,
     "suites": [
      {
       "cases": [
        {
         "code": ">>> q7b.lower() in [\"regressive\", \"fair\", \"progressive\"]\nTrue",
         "hidden": false,
         "locked": false
        }
       ],
       "scored": true,
       "setup": "",
       "teardown": "",
       "type": "doctest"
      }
     ]
    },
    "q4e": {
     "name": "q4e",
     "points": 3,
     "suites": [
      {
       "cases": [
        {
         "code": ">>> check_rmse_threshold(200000)\nTrue",
         "hidden": false,
         "locked": false
        },
        {
         "code": ">>> check_rmse_threshold(240000)\nTrue",
         "hidden": false,
         "locked": false
        },
        {
         "code": ">>> check_rmse_threshold(280000)\nTrue",
         "hidden": false,
         "locked": false
        },
        {
         "code": ">>> check_rmse_threshold.signature == (process_data_fm, 'cook_county_train.csv', None)\nTrue",
         "hidden": false,
         "locked": false
        }
       ],
       "scored": true,
       "setup": "",
       "teardown": "",
       "type": "doctest"
      }
     ]
    },
    "qsurvey": {
     "name": "qsurvey",
     "points": 2,
     "suites": [
      {
       "cases": [
        {
         "code": ">>> assert isinstance(qsurvey, str) # password is a type string\n>>> assert \" \" not in qsurvey # no space in password\n>>> assert len(qsurvey)==12 # password has length 12\n",
         "hidden": false,
         "locked": false,
         "points": 0
        }
       ],
       "scored": true,
       "setup": "",
       "teardown": "",
       "type": "doctest"
      }
     ]
    }
   }
  }
 },
 "nbformat": 4,
 "nbformat_minor": 4
}
